{
  "nbformat": 4,
  "nbformat_minor": 0,
  "metadata": {
    "colab": {
      "name": "pertmuan13.ipynb",
      "provenance": [],
      "authorship_tag": "ABX9TyPlbvLg5slkebFhJPbuA/XU",
      "include_colab_link": true
    },
    "kernelspec": {
      "name": "python3",
      "display_name": "Python 3"
    },
    "language_info": {
      "name": "python"
    }
  },
  "cells": [
    {
      "cell_type": "markdown",
      "metadata": {
        "id": "view-in-github",
        "colab_type": "text"
      },
      "source": [
        "<a href=\"https://colab.research.google.com/github/habibalhuda29/habib-alhuda-abdullah/blob/main/pertmuan13.ipynb\" target=\"_parent\"><img src=\"https://colab.research.google.com/assets/colab-badge.svg\" alt=\"Open In Colab\"/></a>"
      ]
    },
    {
      "cell_type": "code",
      "metadata": {
        "id": "bP2yi2lT_6TN"
      },
      "source": [
        "def bfs(graph, start):\n",
        "    visited = []\n",
        "    queue = [start]\n",
        "\n",
        "    while queue:\n",
        "        node = queue.pop(0)\n",
        "        if node not in visited:\n",
        "            visited.append(node)\n",
        "            neighbours = graph[node]\n",
        "            for neighbour in neighbours:\n",
        "                queue.append(neighbour)\n",
        "    return visited"
      ],
      "execution_count": 1,
      "outputs": []
    },
    {
      "cell_type": "code",
      "metadata": {
        "id": "yUy55QWAGMuf"
      },
      "source": [
        "graph={ 'Amin' : {'Wasim', 'Nick', 'Mike'},\n",
        "         'Wasim' : {'Imran', 'Amin'},\n",
        "         'Imran' : {'Wasim', 'Faras'},\n",
        "         'Faras' : {'Imran'},\n",
        "         'Mike' : {'Amin'},\n",
        "         'Nick' : {'Amin'}}"
      ],
      "execution_count": 2,
      "outputs": []
    },
    {
      "cell_type": "code",
      "metadata": {
        "colab": {
          "base_uri": "https://localhost:8080/"
        },
        "id": "-aDQesfzGfZW",
        "outputId": "3c1e8456-0707-47a1-b0fb-df1f4bc4a0f1"
      },
      "source": [
        "bfs(graph,'Amin')"
      ],
      "execution_count": 3,
      "outputs": [
        {
          "output_type": "execute_result",
          "data": {
            "text/plain": [
              "['Amin', 'Mike', 'Nick', 'Wasim', 'Imran', 'Faras']"
            ]
          },
          "metadata": {},
          "execution_count": 3
        }
      ]
    },
    {
      "cell_type": "code",
      "metadata": {
        "colab": {
          "base_uri": "https://localhost:8080/"
        },
        "id": "eu6CsDenGhmm",
        "outputId": "d065024b-ad18-43b3-916f-f83e193adb2e"
      },
      "source": [
        "# O amin ----------\n",
        "# |         |       |\n",
        "# O wasim   O nick  O mike \n",
        "# | \n",
        "# O imran \n",
        "# |\n",
        "# O faras\n",
        "bfs(graph,'Wasim')"
      ],
      "execution_count": 5,
      "outputs": [
        {
          "output_type": "execute_result",
          "data": {
            "text/plain": [
              "['Wasim', 'Amin', 'Imran', 'Mike', 'Nick', 'Faras']"
            ]
          },
          "metadata": {},
          "execution_count": 5
        }
      ]
    },
    {
      "cell_type": "code",
      "metadata": {
        "colab": {
          "base_uri": "https://localhost:8080/"
        },
        "id": "eiqf7bjVJBGu",
        "outputId": "b9ddb86f-51c1-48dc-c52a-825826d0b659"
      },
      "source": [
        "# O faras \n",
        "# |\n",
        "# O imran \n",
        "# |\n",
        "# O wasim O nick O mike\n",
        "# |       |      |\n",
        "# O amin --------\n",
        "bfs(graph,'Faras')"
      ],
      "execution_count": 7,
      "outputs": [
        {
          "output_type": "execute_result",
          "data": {
            "text/plain": [
              "['Faras', 'Imran', 'Wasim', 'Amin', 'Mike', 'Nick']"
            ]
          },
          "metadata": {},
          "execution_count": 7
        }
      ]
    },
    {
      "cell_type": "code",
      "metadata": {
        "id": "DYIxZpTzygAA"
      },
      "source": [
        "graph={'Rektor' : {'Warek1', 'Warek2'},\n",
        "       'Warek1' : {'Rektor'},\n",
        "       'Warek2' : {'Rektor','Kaprodi1', 'Kaprodi2','Kaprodi3'},\n",
        "       'Kaprodi1' : {'Warek2','Dosen A','Dosen B','Dosen C'},\n",
        "       'Dosen A' : {'Kaprodi1'},\n",
        "       'Dosen B' : {'Kaprodi1'},\n",
        "       'Dosen C' : {'Kaprodi1'},\n",
        "       'Kaprodi2' : {'Warek2','Dosen D','Dosen E'},\n",
        "       'Dosen D' : {'Kaprodi2'},\n",
        "       'Dosen E' : {'Kaprodi2'},\n",
        "       'Kaprodi3' : {'Warek2','Dosen F','Dosen G'},\n",
        "       'Dosen F': {'Kaprodi3'},\n",
        "       'Dosen G' : {'Kaprodi3'}}"
      ],
      "execution_count": 8,
      "outputs": []
    },
    {
      "cell_type": "code",
      "metadata": {
        "colab": {
          "base_uri": "https://localhost:8080/"
        },
        "id": "v7DVO3nGyjwY",
        "outputId": "e6578b3f-3be1-4aea-e676-90bdcc0a7a6f"
      },
      "source": [
        "bfs(graph, 'Rektor')"
      ],
      "execution_count": 9,
      "outputs": [
        {
          "output_type": "execute_result",
          "data": {
            "text/plain": [
              "['Rektor',\n",
              " 'Warek1',\n",
              " 'Warek2',\n",
              " 'Kaprodi2',\n",
              " 'Kaprodi1',\n",
              " 'Kaprodi3',\n",
              " 'Dosen E',\n",
              " 'Dosen D',\n",
              " 'Dosen C',\n",
              " 'Dosen B',\n",
              " 'Dosen A',\n",
              " 'Dosen F',\n",
              " 'Dosen G']"
            ]
          },
          "metadata": {},
          "execution_count": 9
        }
      ]
    },
    {
      "cell_type": "code",
      "metadata": {
        "id": "yTPRISQvyocv"
      },
      "source": [
        "def dfs(graph, start, visited=None):\n",
        "  if visited is None:\n",
        "    visited = set()\n",
        "  visited.add(start)\n",
        "  print(start)\n",
        "  for next in graph[start] - visited:\n",
        "    dfs(graph, next, visited)\n",
        "  return visited"
      ],
      "execution_count": 10,
      "outputs": []
    },
    {
      "cell_type": "code",
      "metadata": {
        "id": "0wmiLw3yytDA"
      },
      "source": [
        "graph={ 'Amin' : {'Wasim', 'Nick', 'Mike'},\n",
        "       'Wasim' : {'Imran', 'Amin'},\n",
        "       'Imran' : {'Wasim','Faras'},\n",
        "       'Faras' : {'Imran'},\n",
        "       'Mike' : {'Amin'},\n",
        "       'Nick' : {'Amin'}}"
      ],
      "execution_count": 11,
      "outputs": []
    },
    {
      "cell_type": "code",
      "metadata": {
        "colab": {
          "base_uri": "https://localhost:8080/"
        },
        "id": "x0jVgx2_yw0A",
        "outputId": "116735e9-975e-44a5-cc66-daa8d3ff8f4e"
      },
      "source": [
        "#O Amin -----------\n",
        "#|        |       |\n",
        "#O Wasim  O Nick  O Mike\n",
        "#|\n",
        "#O Imran\n",
        "#|\n",
        "#O Faras\n",
        "\n",
        "dfs(graph, 'Amin')"
      ],
      "execution_count": 12,
      "outputs": [
        {
          "output_type": "stream",
          "name": "stdout",
          "text": [
            "Amin\n",
            "Mike\n",
            "Nick\n",
            "Wasim\n",
            "Imran\n",
            "Faras\n"
          ]
        },
        {
          "output_type": "execute_result",
          "data": {
            "text/plain": [
              "{'Amin', 'Faras', 'Imran', 'Mike', 'Nick', 'Wasim'}"
            ]
          },
          "metadata": {},
          "execution_count": 12
        }
      ]
    },
    {
      "cell_type": "code",
      "metadata": {
        "colab": {
          "base_uri": "https://localhost:8080/"
        },
        "id": "WJwLkPxzy05j",
        "outputId": "7351cec3-53c1-441d-b180-b532b108c453"
      },
      "source": [
        "#O Wasim-------\n",
        "#|            |\n",
        "#O Imran      O Amin-----\n",
        "#|            |         |\n",
        "#O Faras      O Nick    O Mike\n",
        "dfs(graph,'Wasim')"
      ],
      "execution_count": 13,
      "outputs": [
        {
          "output_type": "stream",
          "name": "stdout",
          "text": [
            "Wasim\n",
            "Amin\n",
            "Mike\n",
            "Nick\n",
            "Imran\n",
            "Faras\n"
          ]
        },
        {
          "output_type": "execute_result",
          "data": {
            "text/plain": [
              "{'Amin', 'Faras', 'Imran', 'Mike', 'Nick', 'Wasim'}"
            ]
          },
          "metadata": {},
          "execution_count": 13
        }
      ]
    },
    {
      "cell_type": "code",
      "metadata": {
        "colab": {
          "base_uri": "https://localhost:8080/"
        },
        "id": "8iEXxcRjy3_2",
        "outputId": "a9b2453f-2e1a-4e44-b9dd-d518b4f09dde"
      },
      "source": [
        "#O Faras\n",
        "#|\n",
        "#O Imran\n",
        "#|\n",
        "#O Wasim  O Nick  O Mike\n",
        "#|        |       |\n",
        "#O Amin------------\n",
        "dfs(graph, 'Faras')"
      ],
      "execution_count": 14,
      "outputs": [
        {
          "output_type": "stream",
          "name": "stdout",
          "text": [
            "Faras\n",
            "Imran\n",
            "Wasim\n",
            "Amin\n",
            "Mike\n",
            "Nick\n"
          ]
        },
        {
          "output_type": "execute_result",
          "data": {
            "text/plain": [
              "{'Amin', 'Faras', 'Imran', 'Mike', 'Nick', 'Wasim'}"
            ]
          },
          "metadata": {},
          "execution_count": 14
        }
      ]
    },
    {
      "cell_type": "code",
      "metadata": {
        "colab": {
          "base_uri": "https://localhost:8080/"
        },
        "id": "M-s8Khagy7EE",
        "outputId": "40d91c51-3ac2-4cb9-8efe-75eed792902b"
      },
      "source": [
        "#O Nick------\n",
        "#|          |\n",
        "#O Amin     O Mike\n",
        "#|\n",
        "#O Wasim    \n",
        "#|\n",
        "#O Imran\n",
        "#|\n",
        "#O Faras\n",
        "\n",
        "dfs(graph, 'Nick')"
      ],
      "execution_count": 15,
      "outputs": [
        {
          "output_type": "stream",
          "name": "stdout",
          "text": [
            "Nick\n",
            "Amin\n",
            "Mike\n",
            "Wasim\n",
            "Imran\n",
            "Faras\n"
          ]
        },
        {
          "output_type": "execute_result",
          "data": {
            "text/plain": [
              "{'Amin', 'Faras', 'Imran', 'Mike', 'Nick', 'Wasim'}"
            ]
          },
          "metadata": {},
          "execution_count": 15
        }
      ]
    },
    {
      "cell_type": "code",
      "metadata": {
        "colab": {
          "base_uri": "https://localhost:8080/"
        },
        "id": "GYtDUoPty-bd",
        "outputId": "02bda13c-89fa-4c1d-b449-0c136d49bb3b"
      },
      "source": [
        "graph={'Rektor' : {'Warek1', 'Warek2'},\n",
        "       'Warek1' : {'Rektor'},\n",
        "       'Warek2' : {'Rektor','Kaprodi1', 'Kaprodi2','Kaprodi3'},\n",
        "       'Kaprodi1' : {'Warek2','Dosen A','Dosen B','Dosen C'},\n",
        "       'Dosen A' : {'Kaprodi1'},\n",
        "       'Dosen B' : {'Kaprodi1'},\n",
        "       'Dosen C' : {'Kaprodi1'},\n",
        "       'Kaprodi2' : {'Warek2','Dosen D','Dosen E'},\n",
        "       'Dosen D' : {'Kaprodi2'},\n",
        "       'Dosen E' : {'Kaprodi2'},\n",
        "       'Kaprodi3' : {'Warek2','Dosen F','Dosen G'},\n",
        "       'Dosen F': {'Kaprodi3'},\n",
        "       'Dosen G' : {'Kaprodi3'}}\n",
        "\n",
        "dfs(graph, 'Rektor')"
      ],
      "execution_count": 16,
      "outputs": [
        {
          "output_type": "stream",
          "name": "stdout",
          "text": [
            "Rektor\n",
            "Warek1\n",
            "Warek2\n",
            "Kaprodi2\n",
            "Dosen E\n",
            "Dosen D\n",
            "Kaprodi1\n",
            "Dosen C\n",
            "Dosen B\n",
            "Dosen A\n",
            "Kaprodi3\n",
            "Dosen F\n",
            "Dosen G\n"
          ]
        },
        {
          "output_type": "execute_result",
          "data": {
            "text/plain": [
              "{'Dosen A',\n",
              " 'Dosen B',\n",
              " 'Dosen C',\n",
              " 'Dosen D',\n",
              " 'Dosen E',\n",
              " 'Dosen F',\n",
              " 'Dosen G',\n",
              " 'Kaprodi1',\n",
              " 'Kaprodi2',\n",
              " 'Kaprodi3',\n",
              " 'Rektor',\n",
              " 'Warek1',\n",
              " 'Warek2'}"
            ]
          },
          "metadata": {},
          "execution_count": 16
        }
      ]
    }
  ]
}