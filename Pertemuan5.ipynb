{
  "nbformat": 4,
  "nbformat_minor": 0,
  "metadata": {
    "colab": {
      "name": "Pertemuan5.ipynb",
      "provenance": [],
      "authorship_tag": "ABX9TyNynNMQ7KV8ewiLwBJq3D1s",
      "include_colab_link": true
    },
    "kernelspec": {
      "name": "python3",
      "display_name": "Python 3"
    },
    "language_info": {
      "name": "python"
    }
  },
  "cells": [
    {
      "cell_type": "markdown",
      "metadata": {
        "id": "view-in-github",
        "colab_type": "text"
      },
      "source": [
        "<a href=\"https://colab.research.google.com/github/habibalhuda29/habib-alhuda-abdullah/blob/main/Pertemuan5.ipynb\" target=\"_parent\"><img src=\"https://colab.research.google.com/assets/colab-badge.svg\" alt=\"Open In Colab\"/></a>"
      ]
    },
    {
      "cell_type": "code",
      "metadata": {
        "id": "J_3Ij-KTi0SW"
      },
      "source": [
        "def countInversion(arr):\n",
        "    result=0\n",
        "    for i in range(len(arr)):\n",
        "      for j in range(i+1,len(arr)):\n",
        "        if arr[i]>arr[j]:\n",
        "          result+=1\n",
        "    return result"
      ],
      "execution_count": null,
      "outputs": []
    },
    {
      "cell_type": "code",
      "metadata": {
        "id": "eV_RZawsk-UK"
      },
      "source": [
        "arr=[21, 70, 36, 14, 25]"
      ],
      "execution_count": null,
      "outputs": []
    },
    {
      "cell_type": "code",
      "metadata": {
        "colab": {
          "base_uri": "https://localhost:8080/"
        },
        "id": "zML_RbntlGSA",
        "outputId": "1c83bae5-e94f-4f45-979d-3d4c9546cd4c"
      },
      "source": [
        "result=countInversion(arr)\n",
        "print(result)"
      ],
      "execution_count": null,
      "outputs": [
        {
          "output_type": "stream",
          "name": "stdout",
          "text": [
            "6\n"
          ]
        }
      ]
    },
    {
      "cell_type": "code",
      "metadata": {
        "id": "T04Bevq3oP7q"
      },
      "source": [
        "def countInversion(arr):\n",
        "    icount=0\n",
        "    if len(arr)<=1:\n",
        "      return icount\n",
        "\n",
        "    mid=len(arr)//2\n",
        "    left=arr[:mid]\n",
        "    right=arr[mid:]\n",
        "    icount+=countInversion(left)\n",
        "    icount+=countInversion(right)\n",
        "    i=j=k=0\n",
        "\n",
        "    #print(left)\n",
        "    #print(right)\n",
        "    while i<len(left) and j<len(right):\n",
        "      if left[i]<right[j]:\n",
        "        arr[k]=left[i]\n",
        "        i+=1\n",
        "      else:\n",
        "        #print(left[i],right[j])\n",
        "        arr[k]=right[j]\n",
        "        j+=1\n",
        "        icount+=(mid-1)\n",
        "      k+=1\n",
        "\n",
        "    while i<len(left):\n",
        "      arr[k]=left[i]\n",
        "      i+=1\n",
        "      k+=1\n",
        "    while j<len(right):\n",
        "      arr[k]=right[j]\n",
        "      j+=1\n",
        "      k+=1\n",
        "\n",
        "    return icount"
      ],
      "execution_count": null,
      "outputs": []
    },
    {
      "cell_type": "code",
      "metadata": {
        "id": "ixujcEhoqjri"
      },
      "source": [
        "arr=[1, 20, 6, 4, 5]"
      ],
      "execution_count": null,
      "outputs": []
    },
    {
      "cell_type": "code",
      "metadata": {
        "colab": {
          "base_uri": "https://localhost:8080/"
        },
        "id": "tD0oip8brXAR",
        "outputId": "6a23ae08-3c20-4e8f-db06-b9680ce817b6"
      },
      "source": [
        "result=countInversion(arr)\n",
        "print(result)"
      ],
      "execution_count": null,
      "outputs": [
        {
          "output_type": "stream",
          "name": "stdout",
          "text": [
            "3\n"
          ]
        }
      ]
    },
    {
      "cell_type": "code",
      "metadata": {
        "id": "9hzkK44LunGS"
      },
      "source": [
        "def maxSubSum(arr):\n",
        "  max_so_far=0\n",
        "  max_ending_here=0\n",
        "  for i in range(len(arr)):\n",
        "    max_ending_here+=arr[i]\n",
        "    if max_ending_here>max_so_far:\n",
        "      max_so_far=max_ending_here\n",
        "    if max_ending_here<0:\n",
        "      max_ending_here=0\n",
        "  return max_so_far"
      ],
      "execution_count": null,
      "outputs": []
    },
    {
      "cell_type": "code",
      "metadata": {
        "colab": {
          "base_uri": "https://localhost:8080/"
        },
        "id": "dnpAbylAvdyc",
        "outputId": "6ad65f0e-8498-4016-9cb4-1f1647e474ad"
      },
      "source": [
        "arr=[-2, -5, 6, -2, -3, 1, 5, -6]\n",
        "result=maxSubSum(arr)\n",
        "print(result)"
      ],
      "execution_count": null,
      "outputs": [
        {
          "output_type": "stream",
          "name": "stdout",
          "text": [
            "7\n"
          ]
        }
      ]
    },
    {
      "cell_type": "code",
      "metadata": {
        "id": "bsIoQ_eUyTJe"
      },
      "source": [
        "def maxCrossingSum(arr, low, mid, high):\n",
        "  result=0; leftSum=float('-infinity')\n",
        "  for i in range(mid,low-1,1):\n",
        "    result+=arr[i]\n",
        "    if result>leftSum:\n",
        "      leftSum=result\n",
        "  result=0; rightSum=float('-infinity')\n",
        "  for i in range(mid+1,high+1):\n",
        "    result+=arr[i]\n",
        "    if result>rightSum:\n",
        "      rightSum=result\n",
        "  return leftSum+rightSum\n",
        "\n",
        "def maxSum(arr,low,high):\n",
        "  if low==high:\n",
        "    return arr[low]\n",
        "  mid=(low+high)//2\n",
        "  return max(maxSum(arr, low, mid), maxSum(arr, mid+1, high), maxCrossingSum(arr, low, mid, high))"
      ],
      "execution_count": null,
      "outputs": []
    },
    {
      "cell_type": "code",
      "metadata": {
        "colab": {
          "base_uri": "https://localhost:8080/"
        },
        "id": "ccD23WtH007T",
        "outputId": "08788386-4416-4b8f-c8fb-8b1333ed69f2"
      },
      "source": [
        "arr=[-2, -5, 6, -2, -3, 1, 5, -6]\n",
        "result = maxSum(arr,0,len(arr)-1)\n",
        "result"
      ],
      "execution_count": null,
      "outputs": [
        {
          "output_type": "execute_result",
          "data": {
            "text/plain": [
              "6"
            ]
          },
          "metadata": {},
          "execution_count": 23
        }
      ]
    },
    {
      "cell_type": "code",
      "metadata": {
        "id": "EvQAIRLdKL1B"
      },
      "source": [
        "def commonPrefix(str1, str2):\n",
        "    n1=len(str1);n2=len(str2)\n",
        "    i,j=0,0\n",
        "    s=\"\"\n",
        "    while i<n1 and j<2:\n",
        "      if str1[i]==str2[j]:\n",
        "        s+=str1[i]\n",
        "        i+=1\n",
        "        j+=1\n",
        "      else:\n",
        "        break\n",
        "    return s"
      ],
      "execution_count": null,
      "outputs": []
    },
    {
      "cell_type": "code",
      "metadata": {
        "id": "smzLWOWGLEt-"
      },
      "source": [
        "def longestCommonPrefix(arr,low,high):\n",
        "    if low==high:\n",
        "      return arr[low]\n",
        "    mid=(low+high)//2\n",
        "    result1=longestCommonPrefix(arr,low,mid)\n",
        "    result2=longestCommonPrefix(arr,mid+1,high)\n",
        "    result=commonPrefix(result1,result2)\n",
        "    return result"
      ],
      "execution_count": null,
      "outputs": []
    },
    {
      "cell_type": "code",
      "metadata": {
        "id": "G7zfFTjCLylV"
      },
      "source": [
        "arr=['geeksforgeeks','geeks','geek','geezer']\n",
        "result=longestCommonPrefix(arr,0,len(arr)-1)"
      ],
      "execution_count": null,
      "outputs": []
    },
    {
      "cell_type": "code",
      "metadata": {
        "colab": {
          "base_uri": "https://localhost:8080/"
        },
        "id": "Wm6lfipVNK3f",
        "outputId": "12f3b04a-dd12-4bf1-f863-628184160da7"
      },
      "source": [
        "print(result)"
      ],
      "execution_count": null,
      "outputs": [
        {
          "output_type": "stream",
          "name": "stdout",
          "text": [
            "ge\n"
          ]
        }
      ]
    },
    {
      "cell_type": "code",
      "metadata": {
        "colab": {
          "base_uri": "https://localhost:8080/"
        },
        "id": "F17v4ez6Nfal",
        "outputId": "3e8a9a80-743c-46d2-c172-b908b5c1f245"
      },
      "source": [
        "arr=[\"apple\",\"ape\",\"april\"]\n",
        "result = longestCommonPrefix(arr,0,len(arr)-1)\n",
        "print(result)"
      ],
      "execution_count": null,
      "outputs": [
        {
          "output_type": "stream",
          "name": "stdout",
          "text": [
            "ap\n"
          ]
        }
      ]
    },
    {
      "cell_type": "code",
      "metadata": {
        "id": "ydxYb9-AOeU-"
      },
      "source": [
        "# median dari dua array ddengan divide dan conquer\n",
        "\n",
        "def medianOfArray(arr1,arr2,n):\n",
        "  m1=-1 #first number\n",
        "  m2=-1 #second number\n",
        "  count = 0\n",
        "  i = j = 0\n",
        "  while count<n+1:\n",
        "    count+=1\n",
        "    if i==n: #i==5 index error if arr1[i]<arr2[j] is checked\n",
        "        m1=m2\n",
        "        m2=arr2[0]\n",
        "        break\n",
        "    if j==n:\n",
        "        m1=m2\n",
        "        m2=arr1[0]\n",
        "        break\n",
        "    if arr1[i]<arr2[j]:\n",
        "        m1=m2\n",
        "        m2=arr1[i]\n",
        "        i+=1\n",
        "    else:\n",
        "      m1=m2\n",
        "      m2=arr2[j]\n",
        "      j+=1\n",
        "  return (m1+m2)//2"
      ],
      "execution_count": null,
      "outputs": []
    },
    {
      "cell_type": "code",
      "metadata": {
        "id": "1vzuSgS5Qebv"
      },
      "source": [
        "arr1=[1,12,15,26,38]\n",
        "arr2=[2,13,17,30,45]"
      ],
      "execution_count": null,
      "outputs": []
    },
    {
      "cell_type": "code",
      "metadata": {
        "colab": {
          "base_uri": "https://localhost:8080/"
        },
        "id": "tlZ_2XG9Q4jo",
        "outputId": "548ef677-2893-4a68-af42-e31cb7d316a6"
      },
      "source": [
        "print(medianOfArray(arr1,arr2,len(arr1)))"
      ],
      "execution_count": null,
      "outputs": [
        {
          "output_type": "stream",
          "name": "stdout",
          "text": [
            "16\n"
          ]
        }
      ]
    },
    {
      "cell_type": "code",
      "metadata": {
        "id": "7eRmDYNOT8UV"
      },
      "source": [
        "#floor in sorted array\n",
        "\n",
        "def floorSorted(arr,low,high,x):\n",
        "  #print(low,high)\n",
        "  if low>high:\n",
        "    return -1\n",
        "\n",
        "  if arr[low]>x:\n",
        "    #print(\"inside\")\n",
        "    return -1\n",
        "\n",
        "  if arr[high]<=x:\n",
        "    return arr[high]\n",
        "\n",
        "  mid = (low+high)//2\n",
        "\n",
        "  if arr[mid] ==x:\n",
        "    return arr[mid]\n",
        "\n",
        "  if mid > 0 and x >= arr[mid-1] and arr[mid]>x:\n",
        "    return arr[mid-1]\n",
        "\n",
        "  if mid > high and x < arr[mid+1] and x >= arr[mid]:\n",
        "    return arr[mid]\n",
        "\n",
        "  if x> arr[mid]:\n",
        "    return floorSorted(arr,mid+1,high,x)\n",
        "  else: \n",
        "    return floorSorted(arr,low,mid-1,x)"
      ],
      "execution_count": 40,
      "outputs": []
    },
    {
      "cell_type": "code",
      "metadata": {
        "colab": {
          "base_uri": "https://localhost:8080/"
        },
        "id": "27Ask-csV7yP",
        "outputId": "d41c953e-c908-40e0-f6a7-8d4ab20d96fc"
      },
      "source": [
        "arr = [1,2,8,10,12,14,19]\n",
        "x = 5\n",
        "print(floorSorted(arr,0,len(arr)-1,x))"
      ],
      "execution_count": 45,
      "outputs": [
        {
          "output_type": "stream",
          "name": "stdout",
          "text": [
            "-1\n"
          ]
        }
      ]
    },
    {
      "cell_type": "code",
      "metadata": {
        "id": "jQNjleLhYgUq"
      },
      "source": [
        "#mencari nilai terdekat dengan metode divede dan conquer\n",
        "\n",
        "def closestNumber(arr,low,high,x):\n",
        "    if low>high:\n",
        "        return -1\n",
        "    if arr[high]<=x:\n",
        "        return arr[high]\n",
        "    if arr[low]>=x:\n",
        "        return arr[low]\n",
        "    mid=(low+high)//2\n",
        "    if arr[mid]==x:\n",
        "        return arr[mid]\n",
        "    abs_mid=abs(arr[mid]-x)\n",
        "    if mid>0:\n",
        "        abs_left=abs(arr[mid-1]-x)\n",
        "        if abs_left<abs_mid:\n",
        "            return closestNumber(arr,low,mid-1,x)\n",
        "    if mid<high:\n",
        "        abs_right=abs(arr[mid+1]-x)\n",
        "        if abs_right<abs_mid:\n",
        "            return closestNumber(arr,mid+1,high,x)\n",
        "        #print('after')\n",
        "        return arr[mid]"
      ],
      "execution_count": 47,
      "outputs": []
    },
    {
      "cell_type": "code",
      "metadata": {
        "colab": {
          "base_uri": "https://localhost:8080/"
        },
        "id": "8u-b-2sfcj4p",
        "outputId": "f4b0a2e0-bc95-4bc2-b83d-1908ce1f103d"
      },
      "source": [
        "arr=[2,5,6,7,8,9]\n",
        "x=9\n",
        "print(closestNumber(arr,0,len(arr)-1,x))"
      ],
      "execution_count": 49,
      "outputs": [
        {
          "output_type": "stream",
          "name": "stdout",
          "text": [
            "9\n"
          ]
        }
      ]
    },
    {
      "cell_type": "code",
      "metadata": {
        "id": "AM37qsYLcvzg"
      },
      "source": [
        "#mencari fixed point dengan metode divide dan conquer\n",
        "\n",
        "def fixedPoint(arr,low,high):\n",
        "  if low>high :\n",
        "    return -1\n",
        "  if arr[high]==high:\n",
        "    return arr [high]\n",
        "  if arr[low]==low:\n",
        "    return arr [low]\n",
        "  mid = (low + high)//2\n",
        "  if arr[mid] == mid:\n",
        "    return arr[mid]\n",
        "  if mid > arr [mid]:\n",
        "    return fixedPoint(arr,mid+1, high)\n",
        "  else:\n",
        "    return fixedPoint(arr,low,mid-1)"
      ],
      "execution_count": 50,
      "outputs": []
    },
    {
      "cell_type": "code",
      "metadata": {
        "colab": {
          "base_uri": "https://localhost:8080/"
        },
        "id": "w9wpRbEZeSfJ",
        "outputId": "e264ffff-149f-406c-b659-69d829995ab4"
      },
      "source": [
        "arr = [9,0,5,3,4]\n",
        "print(fixedPoint(arr,0,len(arr)-1))"
      ],
      "execution_count": 51,
      "outputs": [
        {
          "output_type": "stream",
          "name": "stdout",
          "text": [
            "4\n"
          ]
        }
      ]
    }
  ]
}