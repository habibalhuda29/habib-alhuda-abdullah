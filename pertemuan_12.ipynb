{
  "nbformat": 4,
  "nbformat_minor": 0,
  "metadata": {
    "colab": {
      "name": "pertemuan 12.ipynb",
      "provenance": [],
      "authorship_tag": "ABX9TyMdI4nDVVERygxTuVoeH2YV",
      "include_colab_link": true
    },
    "kernelspec": {
      "name": "python3",
      "display_name": "Python 3"
    },
    "language_info": {
      "name": "python"
    }
  },
  "cells": [
    {
      "cell_type": "markdown",
      "metadata": {
        "id": "view-in-github",
        "colab_type": "text"
      },
      "source": [
        "<a href=\"https://colab.research.google.com/github/habibalhuda29/habib-alhuda-abdullah/blob/main/pertemuan_12.ipynb\" target=\"_parent\"><img src=\"https://colab.research.google.com/assets/colab-badge.svg\" alt=\"Open In Colab\"/></a>"
      ]
    },
    {
      "cell_type": "code",
      "metadata": {
        "colab": {
          "base_uri": "https://localhost:8080/"
        },
        "id": "zmziXitB9iuF",
        "outputId": "13a94417-fb73-4d22-f272-55d961c53e5c"
      },
      "source": [
        "pip install networkx"
      ],
      "execution_count": 1,
      "outputs": [
        {
          "output_type": "stream",
          "name": "stdout",
          "text": [
            "Requirement already satisfied: networkx in /usr/local/lib/python3.7/dist-packages (2.6.3)\n"
          ]
        }
      ]
    },
    {
      "cell_type": "code",
      "metadata": {
        "colab": {
          "base_uri": "https://localhost:8080/",
          "height": 319
        },
        "id": "g_frGdHV9pLL",
        "outputId": "44ee8f15-ed16-49fe-b013-7ef70711d03a"
      },
      "source": [
        "import networkx as nx\n",
        "import matplotlib.pyplot as plt\n",
        "\n",
        "vertices = range(1,10)\n",
        "edges = [(7,2), (2,3), (7,4), (4,5), (7,3), (7,5), (1,6), (1,7), (2,8), (2,9)]\n",
        "G = nx.Graph()\n",
        "G.add_nodes_from(vertices)\n",
        "G.add_edges_from(edges)\n",
        "nx.draw(G, with_labels=True, node_color='r',node_size=800, font_color='white')\n"
      ],
      "execution_count": 2,
      "outputs": [
        {
          "output_type": "display_data",
          "data": {
            "image/png": "[encoded data removed]",
            "text/plain": [
              "<Figure size 432x288 with 1 Axes>"
            ]
          },
          "metadata": {}
        }
      ]
    },
    {
      "cell_type": "code",
      "metadata": {
        "colab": {
          "base_uri": "https://localhost:8080/"
        },
        "id": "px59T3xi9unC",
        "outputId": "a074cbde-ae48-4fe5-be80-8eac69ca112d"
      },
      "source": [
        "nx.degree_centrality(G)"
      ],
      "execution_count": 3,
      "outputs": [
        {
          "output_type": "execute_result",
          "data": {
            "text/plain": [
              "{1: 0.25,\n",
              " 2: 0.5,\n",
              " 3: 0.25,\n",
              " 4: 0.25,\n",
              " 5: 0.25,\n",
              " 6: 0.125,\n",
              " 7: 0.625,\n",
              " 8: 0.125,\n",
              " 9: 0.125}"
            ]
          },
          "metadata": {},
          "execution_count": 3
        }
      ]
    },
    {
      "cell_type": "code",
      "metadata": {
        "colab": {
          "base_uri": "https://localhost:8080/"
        },
        "id": "jY3giKOT9xEr",
        "outputId": "90b6f19d-76fc-4c09-da70-29251386d029"
      },
      "source": [
        "nx.betweenness_centrality(G)"
      ],
      "execution_count": 4,
      "outputs": [
        {
          "output_type": "execute_result",
          "data": {
            "text/plain": [
              "{1: 0.25,\n",
              " 2: 0.46428571428571425,\n",
              " 3: 0.0,\n",
              " 4: 0.0,\n",
              " 5: 0.0,\n",
              " 6: 0.0,\n",
              " 7: 0.7142857142857142,\n",
              " 8: 0.0,\n",
              " 9: 0.0}"
            ]
          },
          "metadata": {},
          "execution_count": 4
        }
      ]
    },
    {
      "cell_type": "code",
      "metadata": {
        "colab": {
          "base_uri": "https://localhost:8080/"
        },
        "id": "jTe5JE2H9zhF",
        "outputId": "6f7405ff-024e-4662-9d39-4d6b4fbeaee7"
      },
      "source": [
        "nx.closeness_centrality(G)"
      ],
      "execution_count": 5,
      "outputs": [
        {
          "output_type": "execute_result",
          "data": {
            "text/plain": [
              "{1: 0.5,\n",
              " 2: 0.6153846153846154,\n",
              " 3: 0.5333333333333333,\n",
              " 4: 0.47058823529411764,\n",
              " 5: 0.47058823529411764,\n",
              " 6: 0.34782608695652173,\n",
              " 7: 0.7272727272727273,\n",
              " 8: 0.4,\n",
              " 9: 0.4}"
            ]
          },
          "metadata": {},
          "execution_count": 5
        }
      ]
    },
    {
      "cell_type": "code",
      "metadata": {
        "colab": {
          "base_uri": "https://localhost:8080/"
        },
        "id": "xBdj9Bnl9zgH",
        "outputId": "9fcfb69e-fafe-4a01-f7fa-35ef316a044b"
      },
      "source": [
        "centrality = nx.eigenvector_centrality(G)\n",
        "sorted((v, '{:0.2f}'.format(c)) for v, c in centrality.items())"
      ],
      "execution_count": 6,
      "outputs": [
        {
          "output_type": "execute_result",
          "data": {
            "text/plain": [
              "[(1, '0.24'),\n",
              " (2, '0.45'),\n",
              " (3, '0.36'),\n",
              " (4, '0.32'),\n",
              " (5, '0.32'),\n",
              " (6, '0.08'),\n",
              " (7, '0.59'),\n",
              " (8, '0.16'),\n",
              " (9, '0.16')]"
            ]
          },
          "metadata": {},
          "execution_count": 6
        }
      ]
    },
    {
      "cell_type": "code",
      "metadata": {
        "colab": {
          "base_uri": "https://localhost:8080/",
          "height": 319
        },
        "id": "Au8if5_f9zes",
        "outputId": "e0ce1f16-9697-4f68-e1b1-dcf6dad8c6d5"
      },
      "source": [
        "G = nx.Graph()\n",
        "\n",
        "G.add_edges_from( [('Bob','Mike'), ('Bob','Jill'), ('Bob','Emma'), ('Bob','John'), \n",
        "                   ('John','Jill'), ('John','Shane'), ('John','Leah'),\n",
        "                   ('Mike','Jill'), ('Mike','Emma'),\n",
        "                   ('Jill','Emma'), ('Jill','Shane'), ('Jill','Leah'),\n",
        "                   ('Leah','Shane'), ('Emma','Liz'), ('Emma','Shane'),\n",
        "                   ('Shane','Liz'), ('Liz','Allen'), ('Allen','Lisa')])\n",
        "\n",
        "nx.draw(G, with_labels=True, node_color='purple', node_size=1200, font_color='cyan')\n",
        "\n",
        "plt.show()\n"
      ],
      "execution_count": 7,
      "outputs": [
        {
          "output_type": "display_data",
          "data": {
            "image/png": "[encoded data removed]",
            "text/plain": [
              "<Figure size 432x288 with 1 Axes>"
            ]
          },
          "metadata": {}
        }
      ]
    },
    {
      "cell_type": "code",
      "metadata": {
        "colab": {
          "base_uri": "https://localhost:8080/"
        },
        "id": "qvRazx2699t7",
        "outputId": "75a4efc1-91b7-4f6a-8585-86606ea4ef82"
      },
      "source": [
        "nx.degree_centrality(G)"
      ],
      "execution_count": 8,
      "outputs": [
        {
          "output_type": "execute_result",
          "data": {
            "text/plain": [
              "{'Allen': 0.2222222222222222,\n",
              " 'Bob': 0.4444444444444444,\n",
              " 'Emma': 0.5555555555555556,\n",
              " 'Jill': 0.6666666666666666,\n",
              " 'John': 0.4444444444444444,\n",
              " 'Leah': 0.3333333333333333,\n",
              " 'Lisa': 0.1111111111111111,\n",
              " 'Liz': 0.3333333333333333,\n",
              " 'Mike': 0.3333333333333333,\n",
              " 'Shane': 0.5555555555555556}"
            ]
          },
          "metadata": {},
          "execution_count": 8
        }
      ]
    },
    {
      "cell_type": "code",
      "metadata": {
        "colab": {
          "base_uri": "https://localhost:8080/"
        },
        "id": "0c85EaY6-AVS",
        "outputId": "517a919e-c010-4144-8cfd-45807dba4649"
      },
      "source": [
        "nx.betweenness_centrality(G)"
      ],
      "execution_count": 9,
      "outputs": [
        {
          "output_type": "execute_result",
          "data": {
            "text/plain": [
              "{'Allen': 0.2222222222222222,\n",
              " 'Bob': 0.023148148148148143,\n",
              " 'Emma': 0.23148148148148148,\n",
              " 'Jill': 0.10185185185185183,\n",
              " 'John': 0.023148148148148143,\n",
              " 'Leah': 0.0,\n",
              " 'Lisa': 0.0,\n",
              " 'Liz': 0.38888888888888884,\n",
              " 'Mike': 0.0,\n",
              " 'Shane': 0.23148148148148143}"
            ]
          },
          "metadata": {},
          "execution_count": 9
        }
      ]
    },
    {
      "cell_type": "code",
      "metadata": {
        "colab": {
          "base_uri": "https://localhost:8080/"
        },
        "id": "GWLSR7hm-CAF",
        "outputId": "e380a633-617d-468f-9d0a-1d2a3738c855"
      },
      "source": [
        "nx.closeness_centrality(G)"
      ],
      "execution_count": 10,
      "outputs": [
        {
          "output_type": "execute_result",
          "data": {
            "text/plain": [
              "{'Allen': 0.42857142857142855,\n",
              " 'Bob': 0.5294117647058824,\n",
              " 'Emma': 0.6428571428571429,\n",
              " 'Jill': 0.6,\n",
              " 'John': 0.5294117647058824,\n",
              " 'Leah': 0.5,\n",
              " 'Lisa': 0.3103448275862069,\n",
              " 'Liz': 0.6,\n",
              " 'Mike': 0.5,\n",
              " 'Shane': 0.6428571428571429}"
            ]
          },
          "metadata": {},
          "execution_count": 10
        }
      ]
    },
    {
      "cell_type": "code",
      "metadata": {
        "colab": {
          "base_uri": "https://localhost:8080/"
        },
        "id": "9Ig-0M26-GuS",
        "outputId": "e6d412e8-4a5f-4c5c-9be6-4fdb23d3aeed"
      },
      "source": [
        "centrality = nx.eigenvector_centrality(G)\n",
        "sorted((v, '{:0.2f}'.format(c)) for v, c in centrality.items())"
      ],
      "execution_count": 11,
      "outputs": [
        {
          "output_type": "execute_result",
          "data": {
            "text/plain": [
              "[('Allen', '0.05'),\n",
              " ('Bob', '0.35'),\n",
              " ('Emma', '0.40'),\n",
              " ('Jill', '0.48'),\n",
              " ('John', '0.35'),\n",
              " ('Leah', '0.29'),\n",
              " ('Lisa', '0.01'),\n",
              " ('Liz', '0.20'),\n",
              " ('Mike', '0.29'),\n",
              " ('Shane', '0.40')]"
            ]
          },
          "metadata": {},
          "execution_count": 11
        }
      ]
    },
    {
      "cell_type": "code",
      "metadata": {
        "colab": {
          "base_uri": "https://localhost:8080/",
          "height": 319
        },
        "id": "nNw6ysDa-JVy",
        "outputId": "416c3320-fce8-4446-daa8-d31960f3369a"
      },
      "source": [
        "vertices = range(1,15)\n",
        "edges = [(9,6), (7,6), (14,6), (8,6), (6,2), (12,2), (11,2), \n",
        "         (2,15), (2,3), (3,13), (5,3), (2,1), (1,4), (1,10)]\n",
        "G = nx.Graph()\n",
        "G.add_nodes_from(vertices)\n",
        "G.add_edges_from(edges)\n",
        "nx.draw(G, with_labels=True, node_color='red',node_size=800, font_color='blue')\n"
      ],
      "execution_count": 14,
      "outputs": [
        {
          "output_type": "display_data",
          "data": {
            "image/png": "[encoded data removed]",
            "text/plain": [
              "<Figure size 432x288 with 1 Axes>"
            ]
          },
          "metadata": {}
        }
      ]
    },
    {
      "cell_type": "code",
      "metadata": {
        "colab": {
          "base_uri": "https://localhost:8080/"
        },
        "id": "Upau-wiz-JQK",
        "outputId": "1879ccae-fe4a-4267-8b7b-2c12878319d7"
      },
      "source": [
        "nx.degree_centrality(G)"
      ],
      "execution_count": 15,
      "outputs": [
        {
          "output_type": "execute_result",
          "data": {
            "text/plain": [
              "{1: 0.21428571428571427,\n",
              " 2: 0.42857142857142855,\n",
              " 3: 0.21428571428571427,\n",
              " 4: 0.07142857142857142,\n",
              " 5: 0.07142857142857142,\n",
              " 6: 0.3571428571428571,\n",
              " 7: 0.07142857142857142,\n",
              " 8: 0.07142857142857142,\n",
              " 9: 0.07142857142857142,\n",
              " 10: 0.07142857142857142,\n",
              " 11: 0.07142857142857142,\n",
              " 12: 0.07142857142857142,\n",
              " 13: 0.07142857142857142,\n",
              " 14: 0.07142857142857142,\n",
              " 15: 0.07142857142857142}"
            ]
          },
          "metadata": {},
          "execution_count": 15
        }
      ]
    },
    {
      "cell_type": "code",
      "metadata": {
        "colab": {
          "base_uri": "https://localhost:8080/"
        },
        "id": "JcU1PDTc-JLK",
        "outputId": "899e886c-ee03-4a20-c6e2-b9c5c6f8babd"
      },
      "source": [
        "nx.betweenness_centrality(G)"
      ],
      "execution_count": 16,
      "outputs": [
        {
          "output_type": "execute_result",
          "data": {
            "text/plain": [
              "{1: 0.27472527472527475,\n",
              " 2: 0.8241758241758242,\n",
              " 3: 0.27472527472527475,\n",
              " 4: 0.0,\n",
              " 5: 0.0,\n",
              " 6: 0.5054945054945056,\n",
              " 7: 0.0,\n",
              " 8: 0.0,\n",
              " 9: 0.0,\n",
              " 10: 0.0,\n",
              " 11: 0.0,\n",
              " 12: 0.0,\n",
              " 13: 0.0,\n",
              " 14: 0.0,\n",
              " 15: 0.0}"
            ]
          },
          "metadata": {},
          "execution_count": 16
        }
      ]
    },
    {
      "cell_type": "code",
      "metadata": {
        "colab": {
          "base_uri": "https://localhost:8080/"
        },
        "id": "WpCv1vB--JGK",
        "outputId": "5c0757be-9866-4ffc-fee6-156608853bbc"
      },
      "source": [
        "nx.closeness_centrality(G)"
      ],
      "execution_count": 17,
      "outputs": [
        {
          "output_type": "execute_result",
          "data": {
            "text/plain": [
              "{1: 0.45161290322580644,\n",
              " 2: 0.6363636363636364,\n",
              " 3: 0.45161290322580644,\n",
              " 4: 0.3181818181818182,\n",
              " 5: 0.3181818181818182,\n",
              " 6: 0.5185185185185185,\n",
              " 7: 0.35,\n",
              " 8: 0.35,\n",
              " 9: 0.35,\n",
              " 10: 0.3181818181818182,\n",
              " 11: 0.4,\n",
              " 12: 0.4,\n",
              " 13: 0.3181818181818182,\n",
              " 14: 0.35,\n",
              " 15: 0.4}"
            ]
          },
          "metadata": {},
          "execution_count": 17
        }
      ]
    },
    {
      "cell_type": "code",
      "metadata": {
        "colab": {
          "base_uri": "https://localhost:8080/"
        },
        "id": "bsdqhujW-I_y",
        "outputId": "bc97ce6e-b33f-48de-c0f6-bb47f54a0302"
      },
      "source": [
        "centrality = nx.eigenvector_centrality(G)\n",
        "sorted((v, '{:0.2f}'.format(c)) for v, c in centrality.items())"
      ],
      "execution_count": 18,
      "outputs": [
        {
          "output_type": "execute_result",
          "data": {
            "text/plain": [
              "[(1, '0.29'),\n",
              " (2, '0.60'),\n",
              " (3, '0.29'),\n",
              " (4, '0.10'),\n",
              " (5, '0.10'),\n",
              " (6, '0.44'),\n",
              " (7, '0.16'),\n",
              " (8, '0.16'),\n",
              " (9, '0.16'),\n",
              " (10, '0.10'),\n",
              " (11, '0.21'),\n",
              " (12, '0.21'),\n",
              " (13, '0.10'),\n",
              " (14, '0.16'),\n",
              " (15, '0.21')]"
            ]
          },
          "metadata": {},
          "execution_count": 18
        }
      ]
    },
    {
      "cell_type": "code",
      "metadata": {
        "colab": {
          "base_uri": "https://localhost:8080/",
          "height": 334
        },
        "id": "l7EAU34n-gmy",
        "outputId": "4eacc5c0-a69b-4e14-db8d-64975ae94ea5"
      },
      "source": [
        "G_fb = nx.read_edgelist(\"facebook_combined.txt\", create_using = nx.Graph(), nodetype=int)\n",
        "print(nx.info(G_fb))"
      ],
      "execution_count": 19,
      "outputs": [
        {
          "output_type": "error",
          "ename": "FileNotFoundError",
          "evalue": "ignored",
          "traceback": [
            "\u001b[0;31m---------------------------------------------------------------------------\u001b[0m",
            "\u001b[0;31mFileNotFoundError\u001b[0m                         Traceback (most recent call last)",
            "\u001b[0;32m<ipython-input-19-959604aa7c13>\u001b[0m in \u001b[0;36m<module>\u001b[0;34m()\u001b[0m\n\u001b[0;32m----> 1\u001b[0;31m \u001b[0mG_fb\u001b[0m \u001b[0;34m=\u001b[0m \u001b[0mnx\u001b[0m\u001b[0;34m.\u001b[0m\u001b[0mread_edgelist\u001b[0m\u001b[0;34m(\u001b[0m\u001b[0;34m\"facebook_combined.txt\"\u001b[0m\u001b[0;34m,\u001b[0m \u001b[0mcreate_using\u001b[0m \u001b[0;34m=\u001b[0m \u001b[0mnx\u001b[0m\u001b[0;34m.\u001b[0m\u001b[0mGraph\u001b[0m\u001b[0;34m(\u001b[0m\u001b[0;34m)\u001b[0m\u001b[0;34m,\u001b[0m \u001b[0mnodetype\u001b[0m\u001b[0;34m=\u001b[0m\u001b[0mint\u001b[0m\u001b[0;34m)\u001b[0m\u001b[0;34m\u001b[0m\u001b[0;34m\u001b[0m\u001b[0m\n\u001b[0m\u001b[1;32m      2\u001b[0m \u001b[0mprint\u001b[0m\u001b[0;34m(\u001b[0m\u001b[0mnx\u001b[0m\u001b[0;34m.\u001b[0m\u001b[0minfo\u001b[0m\u001b[0;34m(\u001b[0m\u001b[0mG_fb\u001b[0m\u001b[0;34m)\u001b[0m\u001b[0;34m)\u001b[0m\u001b[0;34m\u001b[0m\u001b[0;34m\u001b[0m\u001b[0m\n",
            "\u001b[0;32m/usr/local/lib/python3.7/dist-packages/networkx/utils/decorators.py\u001b[0m in \u001b[0;36mfunc\u001b[0;34m(_argmap__wrapper, *args, **kwargs)\u001b[0m\n\u001b[1;32m    793\u001b[0m \u001b[0;34m\u001b[0m\u001b[0m\n\u001b[1;32m    794\u001b[0m             \u001b[0;32mdef\u001b[0m \u001b[0mfunc\u001b[0m\u001b[0;34m(\u001b[0m\u001b[0;34m*\u001b[0m\u001b[0margs\u001b[0m\u001b[0;34m,\u001b[0m \u001b[0m__wrapper\u001b[0m\u001b[0;34m=\u001b[0m\u001b[0;32mNone\u001b[0m\u001b[0;34m,\u001b[0m \u001b[0;34m**\u001b[0m\u001b[0mkwargs\u001b[0m\u001b[0;34m)\u001b[0m\u001b[0;34m:\u001b[0m\u001b[0;34m\u001b[0m\u001b[0;34m\u001b[0m\u001b[0m\n\u001b[0;32m--> 795\u001b[0;31m                 \u001b[0;32mreturn\u001b[0m \u001b[0margmap\u001b[0m\u001b[0;34m.\u001b[0m\u001b[0m_lazy_compile\u001b[0m\u001b[0;34m(\u001b[0m\u001b[0m__wrapper\u001b[0m\u001b[0;34m)\u001b[0m\u001b[0;34m(\u001b[0m\u001b[0;34m*\u001b[0m\u001b[0margs\u001b[0m\u001b[0;34m,\u001b[0m \u001b[0;34m**\u001b[0m\u001b[0mkwargs\u001b[0m\u001b[0;34m)\u001b[0m\u001b[0;34m\u001b[0m\u001b[0;34m\u001b[0m\u001b[0m\n\u001b[0m\u001b[1;32m    796\u001b[0m \u001b[0;34m\u001b[0m\u001b[0m\n\u001b[1;32m    797\u001b[0m         \u001b[0;31m# standard function-wrapping stuff\u001b[0m\u001b[0;34m\u001b[0m\u001b[0;34m\u001b[0m\u001b[0;34m\u001b[0m\u001b[0m\n",
            "\u001b[0;32m/usr/local/lib/python3.7/dist-packages/networkx/utils/decorators.py\u001b[0m in \u001b[0;36margmap_read_edgelist_18\u001b[0;34m(path, comments, delimiter, create_using, nodetype, data, edgetype, encoding)\u001b[0m\n\u001b[1;32m      1\u001b[0m \u001b[0;32mfrom\u001b[0m \u001b[0mcollections\u001b[0m \u001b[0;32mimport\u001b[0m \u001b[0mdefaultdict\u001b[0m\u001b[0;34m\u001b[0m\u001b[0;34m\u001b[0m\u001b[0m\n\u001b[1;32m      2\u001b[0m \u001b[0;32mfrom\u001b[0m \u001b[0mos\u001b[0m\u001b[0;34m.\u001b[0m\u001b[0mpath\u001b[0m \u001b[0;32mimport\u001b[0m \u001b[0msplitext\u001b[0m\u001b[0;34m\u001b[0m\u001b[0;34m\u001b[0m\u001b[0m\n\u001b[0;32m----> 3\u001b[0;31m \u001b[0;32mfrom\u001b[0m \u001b[0mcontextlib\u001b[0m \u001b[0;32mimport\u001b[0m \u001b[0mcontextmanager\u001b[0m\u001b[0;34m\u001b[0m\u001b[0;34m\u001b[0m\u001b[0m\n\u001b[0m\u001b[1;32m      4\u001b[0m \u001b[0;32mfrom\u001b[0m \u001b[0mpathlib\u001b[0m \u001b[0;32mimport\u001b[0m \u001b[0mPath\u001b[0m\u001b[0;34m\u001b[0m\u001b[0;34m\u001b[0m\u001b[0m\n\u001b[1;32m      5\u001b[0m \u001b[0;32mimport\u001b[0m \u001b[0mwarnings\u001b[0m\u001b[0;34m\u001b[0m\u001b[0;34m\u001b[0m\u001b[0m\n",
            "\u001b[0;32m/usr/local/lib/python3.7/dist-packages/networkx/utils/decorators.py\u001b[0m in \u001b[0;36m_open_file\u001b[0;34m(path)\u001b[0m\n\u001b[1;32m    186\u001b[0m             \u001b[0;32mreturn\u001b[0m \u001b[0mpath\u001b[0m\u001b[0;34m,\u001b[0m \u001b[0;32mlambda\u001b[0m\u001b[0;34m:\u001b[0m \u001b[0;32mNone\u001b[0m\u001b[0;34m\u001b[0m\u001b[0;34m\u001b[0m\u001b[0m\n\u001b[1;32m    187\u001b[0m \u001b[0;34m\u001b[0m\u001b[0m\n\u001b[0;32m--> 188\u001b[0;31m         \u001b[0mfobj\u001b[0m \u001b[0;34m=\u001b[0m \u001b[0m_dispatch_dict\u001b[0m\u001b[0;34m[\u001b[0m\u001b[0mext\u001b[0m\u001b[0;34m]\u001b[0m\u001b[0;34m(\u001b[0m\u001b[0mpath\u001b[0m\u001b[0;34m,\u001b[0m \u001b[0mmode\u001b[0m\u001b[0;34m=\u001b[0m\u001b[0mmode\u001b[0m\u001b[0;34m)\u001b[0m\u001b[0;34m\u001b[0m\u001b[0;34m\u001b[0m\u001b[0m\n\u001b[0m\u001b[1;32m    189\u001b[0m         \u001b[0;32mreturn\u001b[0m \u001b[0mfobj\u001b[0m\u001b[0;34m,\u001b[0m \u001b[0;32mlambda\u001b[0m\u001b[0;34m:\u001b[0m \u001b[0mfobj\u001b[0m\u001b[0;34m.\u001b[0m\u001b[0mclose\u001b[0m\u001b[0;34m(\u001b[0m\u001b[0;34m)\u001b[0m\u001b[0;34m\u001b[0m\u001b[0;34m\u001b[0m\u001b[0m\n\u001b[1;32m    190\u001b[0m \u001b[0;34m\u001b[0m\u001b[0m\n",
            "\u001b[0;31mFileNotFoundError\u001b[0m: [Errno 2] No such file or directory: 'facebook_combined.txt'"
          ]
        }
      ]
    },
    {
      "cell_type": "code",
      "metadata": {
        "colab": {
          "base_uri": "https://localhost:8080/",
          "height": 239
        },
        "id": "_t7Ylx8I-gkp",
        "outputId": "6bec83a1-8e25-418c-b303-fcb68dbff9c0"
      },
      "source": [
        "pos = nx.spring_layout(G_fb)\n",
        "betCent = nx.betweenness_centrality(G_fb, normalized=True, endpoints=True)\n",
        "node_color = [20000.0 * G_fb.degree(v) for v in G_fb]\n",
        "node_size = [v * 10000 for v in betCent.values()]\n",
        "plt.figure(figsize=(20,20))\n",
        "nx.draw_networkx(G_fb, pos=pos, with_labels=False,\n",
        "                 node_color=node_color,\n",
        "                 node_size=node_size)\n",
        "plt.axis('off')"
      ],
      "execution_count": 20,
      "outputs": [
        {
          "output_type": "error",
          "ename": "NameError",
          "evalue": "ignored",
          "traceback": [
            "\u001b[0;31m---------------------------------------------------------------------------\u001b[0m",
            "\u001b[0;31mNameError\u001b[0m                                 Traceback (most recent call last)",
            "\u001b[0;32m<ipython-input-20-5ec2c80df2a5>\u001b[0m in \u001b[0;36m<module>\u001b[0;34m()\u001b[0m\n\u001b[0;32m----> 1\u001b[0;31m \u001b[0mpos\u001b[0m \u001b[0;34m=\u001b[0m \u001b[0mnx\u001b[0m\u001b[0;34m.\u001b[0m\u001b[0mspring_layout\u001b[0m\u001b[0;34m(\u001b[0m\u001b[0mG_fb\u001b[0m\u001b[0;34m)\u001b[0m\u001b[0;34m\u001b[0m\u001b[0;34m\u001b[0m\u001b[0m\n\u001b[0m\u001b[1;32m      2\u001b[0m \u001b[0mbetCent\u001b[0m \u001b[0;34m=\u001b[0m \u001b[0mnx\u001b[0m\u001b[0;34m.\u001b[0m\u001b[0mbetweenness_centrality\u001b[0m\u001b[0;34m(\u001b[0m\u001b[0mG_fb\u001b[0m\u001b[0;34m,\u001b[0m \u001b[0mnormalized\u001b[0m\u001b[0;34m=\u001b[0m\u001b[0;32mTrue\u001b[0m\u001b[0;34m,\u001b[0m \u001b[0mendpoints\u001b[0m\u001b[0;34m=\u001b[0m\u001b[0;32mTrue\u001b[0m\u001b[0;34m)\u001b[0m\u001b[0;34m\u001b[0m\u001b[0;34m\u001b[0m\u001b[0m\n\u001b[1;32m      3\u001b[0m \u001b[0mnode_color\u001b[0m \u001b[0;34m=\u001b[0m \u001b[0;34m[\u001b[0m\u001b[0;36m20000.0\u001b[0m \u001b[0;34m*\u001b[0m \u001b[0mG_fb\u001b[0m\u001b[0;34m.\u001b[0m\u001b[0mdegree\u001b[0m\u001b[0;34m(\u001b[0m\u001b[0mv\u001b[0m\u001b[0;34m)\u001b[0m \u001b[0;32mfor\u001b[0m \u001b[0mv\u001b[0m \u001b[0;32min\u001b[0m \u001b[0mG_fb\u001b[0m\u001b[0;34m]\u001b[0m\u001b[0;34m\u001b[0m\u001b[0;34m\u001b[0m\u001b[0m\n\u001b[1;32m      4\u001b[0m \u001b[0mnode_size\u001b[0m \u001b[0;34m=\u001b[0m \u001b[0;34m[\u001b[0m\u001b[0mv\u001b[0m \u001b[0;34m*\u001b[0m \u001b[0;36m10000\u001b[0m \u001b[0;32mfor\u001b[0m \u001b[0mv\u001b[0m \u001b[0;32min\u001b[0m \u001b[0mbetCent\u001b[0m\u001b[0;34m.\u001b[0m\u001b[0mvalues\u001b[0m\u001b[0;34m(\u001b[0m\u001b[0;34m)\u001b[0m\u001b[0;34m]\u001b[0m\u001b[0;34m\u001b[0m\u001b[0;34m\u001b[0m\u001b[0m\n\u001b[1;32m      5\u001b[0m \u001b[0mplt\u001b[0m\u001b[0;34m.\u001b[0m\u001b[0mfigure\u001b[0m\u001b[0;34m(\u001b[0m\u001b[0mfigsize\u001b[0m\u001b[0;34m=\u001b[0m\u001b[0;34m(\u001b[0m\u001b[0;36m20\u001b[0m\u001b[0;34m,\u001b[0m\u001b[0;36m20\u001b[0m\u001b[0;34m)\u001b[0m\u001b[0;34m)\u001b[0m\u001b[0;34m\u001b[0m\u001b[0;34m\u001b[0m\u001b[0m\n",
            "\u001b[0;31mNameError\u001b[0m: name 'G_fb' is not defined"
          ]
        }
      ]
    },
    {
      "cell_type": "code",
      "metadata": {
        "id": "o4jjuMp8-gil"
      },
      "source": [
        ""
      ],
      "execution_count": null,
      "outputs": []
    },
    {
      "cell_type": "code",
      "metadata": {
        "id": "bY8w220M-ggj"
      },
      "source": [
        ""
      ],
      "execution_count": null,
      "outputs": []
    },
    {
      "cell_type": "code",
      "metadata": {
        "id": "j2G5cyTP-gdr"
      },
      "source": [
        ""
      ],
      "execution_count": null,
      "outputs": []
    },
    {
      "cell_type": "code",
      "metadata": {
        "id": "_9cFLn9s-gb0"
      },
      "source": [
        ""
      ],
      "execution_count": null,
      "outputs": []
    },
    {
      "cell_type": "code",
      "metadata": {
        "id": "iNPTX32f-gYL"
      },
      "source": [
        ""
      ],
      "execution_count": null,
      "outputs": []
    }
  ]
}