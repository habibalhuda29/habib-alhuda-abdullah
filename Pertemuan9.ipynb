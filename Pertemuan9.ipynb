{
  "nbformat": 4,
  "nbformat_minor": 0,
  "metadata": {
    "colab": {
      "name": "Pertemuan9.ipynb",
      "provenance": [],
      "authorship_tag": "ABX9TyOyNtpS5aktFcUN/yAQXinF",
      "include_colab_link": true
    },
    "kernelspec": {
      "name": "python3",
      "display_name": "Python 3"
    },
    "language_info": {
      "name": "python"
    }
  },
  "cells": [
    {
      "cell_type": "markdown",
      "metadata": {
        "id": "view-in-github",
        "colab_type": "text"
      },
      "source": [
        "<a href=\"https://colab.research.google.com/github/habibalhuda29/habib-alhuda-abdullah/blob/main/Pertemuan9.ipynb\" target=\"_parent\"><img src=\"https://colab.research.google.com/assets/colab-badge.svg\" alt=\"Open In Colab\"/></a>"
      ]
    },
    {
      "cell_type": "code",
      "metadata": {
        "id": "EBKnefT0yLVv"
      },
      "source": [
        "import numpy as np \n",
        "import networkx as nx\n",
        "import matplotlib.pyplot as plt\n",
        "%matplotlib inline"
      ],
      "execution_count": 4,
      "outputs": []
    },
    {
      "cell_type": "code",
      "metadata": {
        "id": "NXlobMkl0kmq"
      },
      "source": [
        "myWeb = nx.DiGraph()\n",
        "myPages = range(1,5)"
      ],
      "execution_count": 18,
      "outputs": []
    },
    {
      "cell_type": "code",
      "metadata": {
        "id": "BbuB6Uge00-X"
      },
      "source": [
        "connections = [(1,3),(2,1),(2,3),(3,1),(3,2),(3,4),(4,5),(5,1),(5,4)]\n",
        "myWeb.add_nodes_from(myPages)\n",
        "myWeb.add_edges_from(connections)"
      ],
      "execution_count": 19,
      "outputs": []
    },
    {
      "cell_type": "code",
      "metadata": {
        "colab": {
          "base_uri": "https://localhost:8080/",
          "height": 319
        },
        "id": "cLYdv9-j1rtn",
        "outputId": "574635d2-40f8-4cab-876b-1dad95454f5e"
      },
      "source": [
        "pos=nx.shell_layout(myWeb)\n",
        "nx.draw(myWeb, pos, arrows=True, with_labels=True)\n",
        "plt.show()"
      ],
      "execution_count": 20,
      "outputs": [
        {
          "output_type": "display_data",
          "data": {
            "image/png": "[encoded data removed]",
            "text/plain": [
              "<Figure size 432x288 with 1 Axes>"
            ]
          },
          "metadata": {}
        }
      ]
    },
    {
      "cell_type": "code",
      "metadata": {
        "id": "lJVvEtR33UzC"
      },
      "source": [
        "def createPageRank(aGraph):\n",
        "    nodes_set = len(aGraph)\n",
        "    M = nx.to_numpy_matrix(aGraph)\n",
        "    outwards = np.squeeze(np.asarray(np.sum(M, axis=1)))\n",
        "    prob_outwards = np.array(\n",
        "        [1.0/count if count>0 else 0.0 for count in outwards])\n",
        "    G = np.asarray(np.multiply(M.T, prob_outwards))\n",
        "    p = np.ones(nodes_set)/float(nodes_set)\n",
        "    if np.min(np.sum(G,axis=0)) < 1.0:\n",
        "        print('WARN: G is substochastic')\n",
        "    return G,p"
      ],
      "execution_count": 21,
      "outputs": []
    },
    {
      "cell_type": "code",
      "metadata": {
        "colab": {
          "base_uri": "https://localhost:8080/"
        },
        "id": "cfd_KiTr54NC",
        "outputId": "321918a3-18a1-4e6f-ea32-6c143da3b824"
      },
      "source": [
        "G, p = createPageRank(myWeb)\n",
        "print (G)"
      ],
      "execution_count": 22,
      "outputs": [
        {
          "output_type": "stream",
          "name": "stdout",
          "text": [
            "[[0.         0.5        0.33333333 0.         0.5       ]\n",
            " [0.         0.         0.33333333 0.         0.        ]\n",
            " [1.         0.5        0.         0.         0.        ]\n",
            " [0.         0.         0.33333333 0.         0.5       ]\n",
            " [0.         0.         0.         1.         0.        ]]\n"
          ]
        }
      ]
    },
    {
      "cell_type": "code",
      "metadata": {
        "id": "csTV6pwnDaBU"
      },
      "source": [
        "#latihan 1\n",
        "myWeb = nx.DiGraph()\n",
        "myPages = range(1,6)"
      ],
      "execution_count": 32,
      "outputs": []
    },
    {
      "cell_type": "code",
      "metadata": {
        "id": "MsE0UcXmDdyK"
      },
      "source": [
        "connections = [(1,2),(2,3),(3,4),(4,5),(5,6)]\n",
        "myWeb.add_nodes_from(myPages)\n",
        "myWeb.add_edges_from(connections)"
      ],
      "execution_count": 33,
      "outputs": []
    },
    {
      "cell_type": "code",
      "metadata": {
        "colab": {
          "base_uri": "https://localhost:8080/",
          "height": 319
        },
        "id": "ZXLdEQnUDvZ0",
        "outputId": "a5e1a018-37a1-459d-ecc0-4561f6af8310"
      },
      "source": [
        "pos = nx.spiral_layout(myWeb)\n",
        "nx.draw(myWeb, pos, arrows=True, with_labels=True)\n",
        "plt.show()"
      ],
      "execution_count": 34,
      "outputs": [
        {
          "output_type": "display_data",
          "data": {
            "image/png": "[encoded data removed]",
            "text/plain": [
              "<Figure size 432x288 with 1 Axes>"
            ]
          },
          "metadata": {}
        }
      ]
    },
    {
      "cell_type": "code",
      "metadata": {
        "id": "Lyy6ZT0KGcSU"
      },
      "source": [
        "def createPageRank(aGraph):\n",
        "    nodes_set = len(aGraph)\n",
        "    M = nx.to_numpy_matrix(aGraph)\n",
        "    outwards = np.squeeze(np.asarray(np.sum(M, axis=1)))\n",
        "    prob_outwards = np.array(\n",
        "        [1.0/count if count>0 else 0.0 for count in outwards])\n",
        "    G = np.asarray(np.multiply(M.T, prob_outwards))\n",
        "    p = np.ones(nodes_set)/float(nodes_set)\n",
        "    if np.min(np.sum(G,axis=0)) < 1.0:\n",
        "        print('WARN: G is substochastic')\n",
        "    return G,p"
      ],
      "execution_count": 35,
      "outputs": []
    },
    {
      "cell_type": "code",
      "metadata": {
        "colab": {
          "base_uri": "https://localhost:8080/"
        },
        "id": "ASInXXZkGiWG",
        "outputId": "1dc4113b-97e6-4147-9471-4cb879874bf0"
      },
      "source": [
        "G, p = createPageRank(myWeb)\n",
        "print (G)"
      ],
      "execution_count": 36,
      "outputs": [
        {
          "output_type": "stream",
          "name": "stdout",
          "text": [
            "WARN: G is substochastic\n",
            "[[0. 0. 0. 0. 0. 0.]\n",
            " [1. 0. 0. 0. 0. 0.]\n",
            " [0. 1. 0. 0. 0. 0.]\n",
            " [0. 0. 1. 0. 0. 0.]\n",
            " [0. 0. 0. 1. 0. 0.]\n",
            " [0. 0. 0. 0. 1. 0.]]\n"
          ]
        }
      ]
    },
    {
      "cell_type": "code",
      "metadata": {
        "id": "WKXEUlLWEpaP"
      },
      "source": [
        "#latihan 2\n",
        "myWeb = nx.DiGraph()\n",
        "myPages = range(1,5)"
      ],
      "execution_count": 29,
      "outputs": []
    },
    {
      "cell_type": "code",
      "metadata": {
        "id": "BFRrYl9YEjWB"
      },
      "source": [
        "connections = [(1,2),(2,3),(3,4),(4,5),(5,1)]\n",
        "myWeb.add_nodes_from(myPages)\n",
        "myWeb.add_edges_from(connections)"
      ],
      "execution_count": 30,
      "outputs": []
    },
    {
      "cell_type": "code",
      "metadata": {
        "colab": {
          "base_uri": "https://localhost:8080/",
          "height": 319
        },
        "id": "kdEaoOT4GNjM",
        "outputId": "2d998ab1-941a-42a3-c781-c04819fbbb63"
      },
      "source": [
        "pos = nx.shell_layout(myWeb)\n",
        "nx.draw(myWeb, pos, arrows=True, with_labels=True)\n",
        "plt.show()"
      ],
      "execution_count": 31,
      "outputs": [
        {
          "output_type": "display_data",
          "data": {
            "image/png": "[encoded data removed]",
            "text/plain": [
              "<Figure size 432x288 with 1 Axes>"
            ]
          },
          "metadata": {}
        }
      ]
    },
    {
      "cell_type": "code",
      "metadata": {
        "id": "HW8t8wSmHsDY"
      },
      "source": [
        "def createPageRank(aGraph):\n",
        "    nodes_set = len(aGraph)\n",
        "    M = nx.to_numpy_matrix(aGraph)\n",
        "    outwards = np.squeeze(np.asarray(np.sum(M, axis=1)))\n",
        "    prob_outwards = np.array(\n",
        "        [1.0/count if count>0 else 0.0 for count in outwards])\n",
        "    G = np.asarray(np.multiply(M.T, prob_outwards))\n",
        "    p = np.ones(nodes_set)/float(nodes_set)\n",
        "    if np.min(np.sum(G,axis=0)) < 1.0:\n",
        "        print('WARN: G is substochastic')\n",
        "    return G,p"
      ],
      "execution_count": 37,
      "outputs": []
    },
    {
      "cell_type": "code",
      "metadata": {
        "colab": {
          "base_uri": "https://localhost:8080/"
        },
        "id": "Du66jUfPHvFZ",
        "outputId": "4af48085-f70d-47b9-e81a-bb0d93830a4b"
      },
      "source": [
        "G, p = createPageRank(myWeb)\n",
        "print (G)"
      ],
      "execution_count": 38,
      "outputs": [
        {
          "output_type": "stream",
          "name": "stdout",
          "text": [
            "WARN: G is substochastic\n",
            "[[0. 0. 0. 0. 0. 0.]\n",
            " [1. 0. 0. 0. 0. 0.]\n",
            " [0. 1. 0. 0. 0. 0.]\n",
            " [0. 0. 1. 0. 0. 0.]\n",
            " [0. 0. 0. 1. 0. 0.]\n",
            " [0. 0. 0. 0. 1. 0.]]\n"
          ]
        }
      ]
    },
    {
      "cell_type": "code",
      "metadata": {
        "colab": {
          "base_uri": "https://localhost:8080/",
          "height": 319
        },
        "id": "9kmYRG4CIKM2",
        "outputId": "f788ced8-ee96-4673-819a-39aff027ddb3"
      },
      "source": [
        "#Tugas 3\n",
        "\n",
        "myWeb = nx.DiGraph()\n",
        "myPages = range(1,4)\n",
        "connections = [(1,2),(2,1),(2,3),(3,2),(3,4), (4,3)]\n",
        "myWeb.add_nodes_from(myPages)\n",
        "myWeb.add_edges_from(connections)\n",
        "\n",
        "pos=nx.spring_layout(myWeb)\n",
        "nx.draw(myWeb, pos, arrows=True, with_labels=True)\n",
        "plt.show()"
      ],
      "execution_count": 43,
      "outputs": [
        {
          "output_type": "display_data",
          "data": {
            "image/png": "[encoded data removed]",
            "text/plain": [
              "<Figure size 432x288 with 1 Axes>"
            ]
          },
          "metadata": {}
        }
      ]
    },
    {
      "cell_type": "code",
      "metadata": {
        "id": "O3ioF8f-ISBv"
      },
      "source": [
        "def createPageRank(aGraph):\n",
        "    nodes_set = len(aGraph)\n",
        "    M = nx.to_numpy_matrix(aGraph)\n",
        "    outwards = np.squeeze(np.asarray(np.sum(M, axis=1)))\n",
        "    prob_outwards = np.array(\n",
        "        [1.0/count if count>0 else 0.0 for count in outwards])\n",
        "    G = np.asarray(np.multiply(M.T, prob_outwards))\n",
        "    p = np.ones(nodes_set)/float(nodes_set)\n",
        "    if np.min(np.sum(G,axis=0)) < 1.0:\n",
        "        print('WARN: G is substochastic')\n",
        "    return G,p"
      ],
      "execution_count": 44,
      "outputs": []
    },
    {
      "cell_type": "code",
      "metadata": {
        "colab": {
          "base_uri": "https://localhost:8080/"
        },
        "id": "h_RZ5oqYIT6B",
        "outputId": "149fcb2d-7d97-4eaa-eae2-a3d1867da80a"
      },
      "source": [
        "G, p = createPageRank(myWeb)\n",
        "print (G)"
      ],
      "execution_count": 45,
      "outputs": [
        {
          "output_type": "stream",
          "name": "stdout",
          "text": [
            "[[0.  0.5 0.  0. ]\n",
            " [1.  0.  0.5 0. ]\n",
            " [0.  0.5 0.  1. ]\n",
            " [0.  0.  0.5 0. ]]\n"
          ]
        }
      ]
    },
    {
      "cell_type": "code",
      "metadata": {
        "colab": {
          "base_uri": "https://localhost:8080/",
          "height": 319
        },
        "id": "xQshal9yTZ-w",
        "outputId": "d6118f1d-52b8-4f97-c8d4-1bb599275472"
      },
      "source": [
        "#Tugas 4\n",
        "\n",
        "myWeb = nx.DiGraph()\n",
        "myPages = range(1,6)\n",
        "connections = [(1,2),(2,3),(3,4),(4,5),(5,6), (6,1)]\n",
        "myWeb.add_nodes_from(myPages)\n",
        "myWeb.add_edges_from(connections)\n",
        "\n",
        "pos=nx.shell_layout(myWeb)\n",
        "nx.draw(myWeb, pos, arrows=True, with_labels=True)\n",
        "plt.show()"
      ],
      "execution_count": 46,
      "outputs": [
        {
          "output_type": "display_data",
          "data": {
            "image/png": "[encoded data removed]",
            "text/plain": [
              "<Figure size 432x288 with 1 Axes>"
            ]
          },
          "metadata": {}
        }
      ]
    },
    {
      "cell_type": "code",
      "metadata": {
        "id": "wbF_joLJThVP"
      },
      "source": [
        "def createPageRank(aGraph):\n",
        "    nodes_set = len(aGraph)\n",
        "    M = nx.to_numpy_matrix(aGraph)\n",
        "    outwards = np.squeeze(np.asarray(np.sum(M, axis=1)))\n",
        "    prob_outwards = np.array(\n",
        "        [1.0/count if count>0 else 0.0 for count in outwards])\n",
        "    G = np.asarray(np.multiply(M.T, prob_outwards))\n",
        "    p = np.ones(nodes_set)/float(nodes_set)\n",
        "    if np.min(np.sum(G,axis=0)) < 1.0:\n",
        "        print('WARN: G is substochastic')\n",
        "    return G,p"
      ],
      "execution_count": 47,
      "outputs": []
    },
    {
      "cell_type": "code",
      "metadata": {
        "colab": {
          "base_uri": "https://localhost:8080/"
        },
        "id": "fj_f0PctTp-b",
        "outputId": "99ff619e-0b26-4eaa-e4db-e058d0570879"
      },
      "source": [
        "G, p = createPageRank(myWeb)\n",
        "print (G)"
      ],
      "execution_count": 48,
      "outputs": [
        {
          "output_type": "stream",
          "name": "stdout",
          "text": [
            "[[0. 0. 0. 0. 0. 1.]\n",
            " [1. 0. 0. 0. 0. 0.]\n",
            " [0. 1. 0. 0. 0. 0.]\n",
            " [0. 0. 1. 0. 0. 0.]\n",
            " [0. 0. 0. 1. 0. 0.]\n",
            " [0. 0. 0. 0. 1. 0.]]\n"
          ]
        }
      ]
    },
    {
      "cell_type": "code",
      "metadata": {
        "colab": {
          "base_uri": "https://localhost:8080/",
          "height": 319
        },
        "id": "cw7vu0SnTt_i",
        "outputId": "20e3611e-662a-44ba-f3fe-55ed37ca12c8"
      },
      "source": [
        "#Tugas 5\n",
        "\n",
        "myWeb = nx.DiGraph()\n",
        "myPages = range(1,4)\n",
        "connections = [(1,2),(2,1),(2,3),(3,2),(3,4), (4,3),(4,1)]\n",
        "myWeb.add_nodes_from(myPages)\n",
        "myWeb.add_edges_from(connections)\n",
        "\n",
        "pos=nx.spring_layout(myWeb)\n",
        "nx.draw(myWeb, pos, arrows=True, with_labels=True)\n",
        "plt.show()"
      ],
      "execution_count": 49,
      "outputs": [
        {
          "output_type": "display_data",
          "data": {
            "image/png": "[encoded data removed]",
            "text/plain": [
              "<Figure size 432x288 with 1 Axes>"
            ]
          },
          "metadata": {}
        }
      ]
    },
    {
      "cell_type": "code",
      "metadata": {
        "id": "Tu8itDCPTxiH"
      },
      "source": [
        "def createPageRank(aGraph):\n",
        "    nodes_set = len(aGraph)\n",
        "    M = nx.to_numpy_matrix(aGraph)\n",
        "    outwards = np.squeeze(np.asarray(np.sum(M, axis=1)))\n",
        "    prob_outwards = np.array(\n",
        "        [1.0/count if count>0 else 0.0 for count in outwards])\n",
        "    G = np.asarray(np.multiply(M.T, prob_outwards))\n",
        "    p = np.ones(nodes_set)/float(nodes_set)\n",
        "    if np.min(np.sum(G,axis=0)) < 1.0:\n",
        "        print('WARN: G is substochastic')\n",
        "    return G,p"
      ],
      "execution_count": 50,
      "outputs": []
    },
    {
      "cell_type": "code",
      "metadata": {
        "colab": {
          "base_uri": "https://localhost:8080/"
        },
        "id": "K3MZdqDWT0cq",
        "outputId": "382f3137-a134-414f-8d9e-befc0310b5ec"
      },
      "source": [
        "G, p = createPageRank(myWeb)\n",
        "print (G)"
      ],
      "execution_count": 51,
      "outputs": [
        {
          "output_type": "stream",
          "name": "stdout",
          "text": [
            "[[0.  0.5 0.  0.5]\n",
            " [1.  0.  0.5 0. ]\n",
            " [0.  0.5 0.  0.5]\n",
            " [0.  0.  0.5 0. ]]\n"
          ]
        }
      ]
    },
    {
      "cell_type": "code",
      "metadata": {
        "colab": {
          "base_uri": "https://localhost:8080/",
          "height": 319
        },
        "id": "EC8oXukOT4X4",
        "outputId": "607d5068-c018-4243-8434-a33a07e43767"
      },
      "source": [
        "#Tugas 6\n",
        "\n",
        "myWeb = nx.DiGraph()\n",
        "myPages = range(1,5)\n",
        "connections = [(1,2),(2,3),(3,4),(3,2),(3,4), (4,1),(4,5),(5,1)]\n",
        "myWeb.add_nodes_from(myPages)\n",
        "myWeb.add_edges_from(connections)\n",
        "\n",
        "pos=nx.kamada_kawai_layout(myWeb)\n",
        "nx.draw(myWeb, pos, arrows=True, with_labels=True)\n",
        "plt.show()"
      ],
      "execution_count": 52,
      "outputs": [
        {
          "output_type": "display_data",
          "data": {
            "image/png": "[encoded data removed]",
            "text/plain": [
              "<Figure size 432x288 with 1 Axes>"
            ]
          },
          "metadata": {}
        }
      ]
    },
    {
      "cell_type": "code",
      "metadata": {
        "id": "u521W4L5T7rs"
      },
      "source": [
        "def createPageRank(aGraph):\n",
        "    nodes_set = len(aGraph)\n",
        "    M = nx.to_numpy_matrix(aGraph)\n",
        "    outwards = np.squeeze(np.asarray(np.sum(M, axis=1)))\n",
        "    prob_outwards = np.array(\n",
        "        [1.0/count if count>0 else 0.0 for count in outwards])\n",
        "    G = np.asarray(np.multiply(M.T, prob_outwards))\n",
        "    p = np.ones(nodes_set)/float(nodes_set)\n",
        "    if np.min(np.sum(G,axis=0)) < 1.0:\n",
        "        print('WARN: G is substochastic')\n",
        "    return G,p"
      ],
      "execution_count": 53,
      "outputs": []
    },
    {
      "cell_type": "code",
      "metadata": {
        "colab": {
          "base_uri": "https://localhost:8080/"
        },
        "id": "DSXQsUA-T_Lc",
        "outputId": "b9587b9e-5beb-40af-f72d-cc16197c5a8f"
      },
      "source": [
        "G, p = createPageRank(myWeb)\n",
        "print (G)"
      ],
      "execution_count": 54,
      "outputs": [
        {
          "output_type": "stream",
          "name": "stdout",
          "text": [
            "[[0.  0.  0.  0.5 1. ]\n",
            " [1.  0.  0.5 0.  0. ]\n",
            " [0.  1.  0.  0.  0. ]\n",
            " [0.  0.  0.5 0.  0. ]\n",
            " [0.  0.  0.  0.5 0. ]]\n"
          ]
        }
      ]
    }
  ]
}