{
  "nbformat": 4,
  "nbformat_minor": 0,
  "metadata": {
    "colab": {
      "name": "pertemuan11.ipynb",
      "provenance": [],
      "authorship_tag": "ABX9TyNWsGe/b7QAf01H9rCuB8Yn",
      "include_colab_link": true
    },
    "kernelspec": {
      "name": "python3",
      "display_name": "Python 3"
    },
    "language_info": {
      "name": "python"
    }
  },
  "cells": [
    {
      "cell_type": "markdown",
      "metadata": {
        "id": "view-in-github",
        "colab_type": "text"
      },
      "source": [
        "<a href=\"https://colab.research.google.com/github/habibalhuda29/habib-alhuda-abdullah/blob/main/pertemuan11.ipynb\" target=\"_parent\"><img src=\"https://colab.research.google.com/assets/colab-badge.svg\" alt=\"Open In Colab\"/></a>"
      ]
    },
    {
      "cell_type": "code",
      "metadata": {
        "id": "8E_uasX_qgdy"
      },
      "source": [
        "# a-----b\n",
        "# |     |\n",
        "# |     |\n",
        "# c-----d-----e"
      ],
      "execution_count": 1,
      "outputs": []
    },
    {
      "cell_type": "code",
      "metadata": {
        "colab": {
          "base_uri": "https://localhost:8080/"
        },
        "id": "DdMcKgFYqooM",
        "outputId": "d7f87bb4-bf86-4a86-baa0-1ed521d1be27"
      },
      "source": [
        "graph = { \"a\" : [\"b\", \"c\"],\n",
        "          \"b\" : [\"a\", \"d\"],\n",
        "          \"c\" : [\"a\", \"d\"],\n",
        "          \"d\" : [\"e\"],\n",
        "          \"e\" : [\"d\"]\n",
        "         }\n",
        "\n",
        "print(graph)"
      ],
      "execution_count": 3,
      "outputs": [
        {
          "output_type": "stream",
          "name": "stdout",
          "text": [
            "{'a': ['b', 'c'], 'b': ['a', 'd'], 'c': ['a', 'd'], 'd': ['e'], 'e': ['d']}\n"
          ]
        }
      ]
    },
    {
      "cell_type": "code",
      "metadata": {
        "colab": {
          "base_uri": "https://localhost:8080/"
        },
        "id": "VySkYR00qssS",
        "outputId": "f1b4ad34-7051-4a3b-bfae-8ccdfc2e4ab6"
      },
      "source": [
        "graph = { \"a\" : [\"b\", \"c\"],\n",
        "          \"b\" : [\"a\", \"d\"],\n",
        "          \"c\" : [\"a\", \"d\"],\n",
        "          \"d\" : [\"e\"],\n",
        "          \"e\" : [\"d\"]\n",
        "         }\n",
        "\n",
        "print(graph)"
      ],
      "execution_count": 4,
      "outputs": [
        {
          "output_type": "stream",
          "name": "stdout",
          "text": [
            "{'a': ['b', 'c'], 'b': ['a', 'd'], 'c': ['a', 'd'], 'd': ['e'], 'e': ['d']}\n"
          ]
        }
      ]
    },
    {
      "cell_type": "code",
      "metadata": {
        "colab": {
          "base_uri": "https://localhost:8080/"
        },
        "id": "vCIChyEVq-zj",
        "outputId": "8d7c1add-1c96-40e8-d18c-a3594e9cd8e7"
      },
      "source": [
        "# t----u----v\n",
        "# |         |\n",
        "# |         |\n",
        "# w----- ---x\n",
        "# |         |\n",
        "# z         s\n",
        "\n",
        "graph = { \"t\" : [\"u\", \"v\"],\n",
        "          \"u\" : [\"v\", \"t\"],\n",
        "          \"v\" : [\"u\", \"x\"],\n",
        "          \"w\" : [\"x\", \"z\", \"t\"],\n",
        "          \"x\" : [\"w\", \"s\", \"v\"],\n",
        "          \"s\" : [\"x\"]\n",
        "         }\n",
        "\n",
        "print(graph)"
      ],
      "execution_count": 5,
      "outputs": [
        {
          "output_type": "stream",
          "name": "stdout",
          "text": [
            "{'t': ['u', 'v'], 'u': ['v', 't'], 'v': ['u', 'x'], 'w': ['x', 'z', 't'], 'x': ['w', 's', 'v'], 's': ['x']}\n"
          ]
        }
      ]
    },
    {
      "cell_type": "code",
      "metadata": {
        "colab": {
          "base_uri": "https://localhost:8080/"
        },
        "id": "-wzH4t5JrDqr",
        "outputId": "20ec4d5b-808c-4fa7-c4e7-d230d95b7823"
      },
      "source": [
        "# r----o----m\n",
        "# |         |\n",
        "# l----p----n\n",
        "\n",
        "graph = { \"r\" : [\"o\", \"m\"],\n",
        "          \"o\" : [\"r\", \"m\", \"p\"],\n",
        "          \"m\" : [\"o\", \"n\"],\n",
        "          \"l\" : [\"r\", \"p\"],\n",
        "          \"p\" : [\"o\", \"l\", \"n\"],\n",
        "          \"n\" : [\"m\", \"p\"],\n",
        "          }\n",
        "print(graph)"
      ],
      "execution_count": 6,
      "outputs": [
        {
          "output_type": "stream",
          "name": "stdout",
          "text": [
            "{'r': ['o', 'm'], 'o': ['r', 'm', 'p'], 'm': ['o', 'n'], 'l': ['r', 'p'], 'p': ['o', 'l', 'n'], 'n': ['m', 'p']}\n"
          ]
        }
      ]
    },
    {
      "cell_type": "code",
      "metadata": {
        "colab": {
          "base_uri": "https://localhost:8080/"
        },
        "id": "9sM24UFHrHNK",
        "outputId": "798e0429-fe31-432e-f8ec-9416a4e65480"
      },
      "source": [
        "# r----o----m\n",
        "# |         |\n",
        "# l----p----n\n",
        "\n",
        "graph = { \"r\" : [\"o\", \"m\"],\n",
        "          \"o\" : [\"r\", \"m\", \"p\"],\n",
        "          \"m\" : [\"o\", \"n\"],\n",
        "          \"l\" : [\"r\", \"p\"],\n",
        "          \"p\" : [\"o\", \"l\", \"n\"],\n",
        "          \"n\" : [\"m\", \"p\"],\n",
        "          }\n",
        "print(graph)"
      ],
      "execution_count": 7,
      "outputs": [
        {
          "output_type": "stream",
          "name": "stdout",
          "text": [
            "{'r': ['o', 'm'], 'o': ['r', 'm', 'p'], 'm': ['o', 'n'], 'l': ['r', 'p'], 'p': ['o', 'l', 'n'], 'n': ['m', 'p']}\n"
          ]
        }
      ]
    },
    {
      "cell_type": "code",
      "metadata": {
        "colab": {
          "base_uri": "https://localhost:8080/"
        },
        "id": "6rFgO4XSrKvj",
        "outputId": "20dddd4a-a669-4596-995e-3661c98cff66"
      },
      "source": [
        "#Latihan 1\n",
        "\n",
        "class graph:\n",
        "    \n",
        "    def __init__ (self,gdict=None):\n",
        "        if gdict is None:\n",
        "            gdict = {}\n",
        "        self.gdict = gdict\n",
        "\n",
        "    def getVertices(self):\n",
        "        return list(self.gdict.keys())\n",
        "\n",
        "graph_elements = { \"t\" : [\"u\", \"v\"],\n",
        "                   \"u\" : [\"v\", \"t\"],\n",
        "                   \"v\" : [\"u\", \"x\"],\n",
        "                   \"w\" : [\"x\", \"z\", \"t\"],\n",
        "                   \"x\" : [\"w\", \"s\", \"v\"],\n",
        "                  \"s\" : [\"x\"]\n",
        "                    }\n",
        "g = graph(graph_elements) \n",
        "print(g.getVertices())"
      ],
      "execution_count": 8,
      "outputs": [
        {
          "output_type": "stream",
          "name": "stdout",
          "text": [
            "['t', 'u', 'v', 'w', 'x', 's']\n"
          ]
        }
      ]
    },
    {
      "cell_type": "code",
      "metadata": {
        "colab": {
          "base_uri": "https://localhost:8080/"
        },
        "id": "O1KcyM2LrKt7",
        "outputId": "1ea5b8da-d910-48f9-fcba-93f3c1d3fa09"
      },
      "source": [
        "#Latihan 2\n",
        "\n",
        "class graph:\n",
        "    \n",
        "    def __init__ (self,gdict=None):\n",
        "        if gdict is None:\n",
        "            gdict = {}\n",
        "        self.gdict = gdict\n",
        "\n",
        "    def getVertices(self):\n",
        "        return list(self.gdict.keys())\n",
        "\n",
        "graph_elements = { \"r\" : [\"b\", \"c\"], \n",
        "                   \"o\" : [\"r\", \"m\", \"p\"], \n",
        "                   \"m\" : [\"o\", \"n\"],\n",
        "                   \"l\" : [\"r\", \"p\"],\n",
        "                   \"p\" : [\"o\", \"l\", \"n\"],\n",
        "                   \"n\" : [\"m\", \"p\"],\n",
        "                  } \n",
        "g = graph(graph_elements) \n",
        "print(g.getVertices())"
      ],
      "execution_count": 9,
      "outputs": [
        {
          "output_type": "stream",
          "name": "stdout",
          "text": [
            "['r', 'o', 'm', 'l', 'p', 'n']\n"
          ]
        }
      ]
    },
    {
      "cell_type": "code",
      "metadata": {
        "colab": {
          "base_uri": "https://localhost:8080/"
        },
        "id": "KNFPKXkErrPz",
        "outputId": "99259cc1-fcc5-4722-a6bd-c9c933fcdaa9"
      },
      "source": [
        "class graph:\n",
        "    \n",
        "    def __init__ (self,gdict=None):\n",
        "        if gdict is None:\n",
        "            gdict = {}\n",
        "        self.gdict = gdict\n",
        "\n",
        "    def edges(self):\n",
        "        return self.findedges()\n",
        "\n",
        "    def findedges(self):\n",
        "        edgename = []\n",
        "        for vrtx in self.gdict:\n",
        "            for nxtvrtx in self.gdict[vrtx]:\n",
        "                if {nxtvrtx, vrtx} not in edgename:\n",
        "                    edgename.append({vrtx, nxtvrtx})   \n",
        "        return edgename\n",
        "\n",
        "graph_elements = { \"a\" : [\"b\",\"c\"], \n",
        "                \"b\" : [\"a\", \"d\"], \n",
        "                \"c\" : [\"a\", \"d\"],\n",
        "                \"d\" : [\"e\"],\n",
        "                \"e\" : [\"d\"]\n",
        "                } \n",
        "g = graph(graph_elements) \n",
        "print(g.edges())"
      ],
      "execution_count": 10,
      "outputs": [
        {
          "output_type": "stream",
          "name": "stdout",
          "text": [
            "[{'b', 'a'}, {'c', 'a'}, {'b', 'd'}, {'d', 'c'}, {'d', 'e'}]\n"
          ]
        }
      ]
    },
    {
      "cell_type": "code",
      "metadata": {
        "colab": {
          "base_uri": "https://localhost:8080/"
        },
        "id": "34_VjzFCruji",
        "outputId": "b3c7dc54-b57e-4fa2-b3e7-e91d4127e0c3"
      },
      "source": [
        "#Latihan 1\n",
        "class graph:\n",
        "    \n",
        "    def __init__ (self,gdict=None):\n",
        "        if gdict is None:\n",
        "            gdict = {}\n",
        "        self.gdict = gdict\n",
        "\n",
        "    def edges(self):\n",
        "        return self.findedges()\n",
        "\n",
        "    def findedges(self):\n",
        "        edgename = []\n",
        "        for vrtx in self.gdict:\n",
        "            for nxtvrtx in self.gdict[vrtx]:\n",
        "                if {nxtvrtx, vrtx} not in edgename:\n",
        "                    edgename.append({vrtx, nxtvrtx})   \n",
        "        return edgename\n",
        "\n",
        "graph_elements = { \"t\" : [\"u\", \"v\"],\n",
        "                   \"u\" : [\"v\", \"t\"],\n",
        "                   \"v\" : [\"u\", \"x\"],\n",
        "                   \"w\" : [\"x\", \"z\", \"t\"],\n",
        "                   \"x\" : [\"w\", \"s\", \"v\"],\n",
        "                  \"s\" : [\"x\"]\n",
        "                    }\n",
        "g = graph(graph_elements) \n",
        "print(g.edges())"
      ],
      "execution_count": 11,
      "outputs": [
        {
          "output_type": "stream",
          "name": "stdout",
          "text": [
            "[{'t', 'u'}, {'t', 'v'}, {'v', 'u'}, {'x', 'v'}, {'w', 'x'}, {'w', 'z'}, {'w', 't'}, {'x', 's'}]\n"
          ]
        }
      ]
    },
    {
      "cell_type": "code",
      "metadata": {
        "id": "3b_EfI3qryiS"
      },
      "source": [
        "#Latihan 2\n",
        "class graph:\n",
        "    \n",
        "    def __init__ (self,gdict=None):\n",
        "        if gdict is None:\n",
        "            gdict = {}\n",
        "        self.gdict = gdict\n",
        "\n",
        "    def edges(self):\n",
        "        return self.findedges()\n",
        "\n",
        "    def findedges(self):\n",
        "        edgename = []\n",
        "        for vrtx in self.gdict:\n",
        "            for nxtvrtx in self.gdict[vrtx]:\n",
        "                if {nxtvrtx, vrtx} not in edgename:\n",
        "                    edgename.append({vrtx, nxtvrtx})   \n",
        "        return edgename\n",
        "\n",
        "graph_elements =  { \"r\" : [\"o\", \"m\"],\n",
        "                     \"o\" : [\"r\", \"m\", \"p\"],\n",
        "                     \"m\" : [\"o\", \"n\"],\n",
        "                     \"l\" : [\"r\", \"p\"],\n",
        "                     \"p\" : [\"o\", \"l\", \"n\"],\n",
        "                     \"n\" : [\"m\", \"p\"],\n",
        "                    }\n",
        "g = graph(graph_elements) \n",
        "print(g.edges())\n"
      ],
      "execution_count": null,
      "outputs": []
    },
    {
      "cell_type": "code",
      "metadata": {
        "colab": {
          "base_uri": "https://localhost:8080/"
        },
        "id": "r5ru8mHir8a6",
        "outputId": "d14d7de4-ed6a-48e4-f451-d8c5618a9140"
      },
      "source": [
        "class graph: \n",
        "    def __init__ (self,gdict=None):\n",
        "        if gdict is None:\n",
        "            gdict = {} \n",
        "        self.gdict = gdict \n",
        "    def getVertices(self):\n",
        "        return list(self.gdict.keys()) \n",
        "\n",
        "    def addVertex(self, vrtx):\n",
        "       if vrtx not in self.gdict:\n",
        "            self.gdict[vrtx] = [] \n",
        "\n",
        "graph_elements = { \"a\" : [\"b\", \"c\"],\n",
        "                   \"b\" : [\"a\", \"d\"], \n",
        "                   \"c\" : [\"a\", \"d\"],\n",
        "                   \"d\" : [\"e\"],\n",
        "                   \"e\" : [\"d\"]\n",
        "                   } \n",
        "g = graph(graph_elements) \n",
        "g.addVertex(\"f\") \n",
        "print(g.getVertices())"
      ],
      "execution_count": 12,
      "outputs": [
        {
          "output_type": "stream",
          "name": "stdout",
          "text": [
            "['a', 'b', 'c', 'd', 'e', 'f']\n"
          ]
        }
      ]
    },
    {
      "cell_type": "code",
      "metadata": {
        "colab": {
          "base_uri": "https://localhost:8080/"
        },
        "id": "uLS83V5ur_kR",
        "outputId": "8fe08562-f59b-49bc-dcfc-7733ca4620a5"
      },
      "source": [
        "#Latihan \n",
        "class graph: \n",
        "    def __init__ (self,gdict=None):\n",
        "        if gdict is None:\n",
        "            gdict = {} \n",
        "        self.gdict = gdict \n",
        "    def getVertices(self):\n",
        "        return list(self.gdict.keys()) \n",
        "\n",
        "    def addVertex(self, vrtx):\n",
        "       if vrtx not in self.gdict:\n",
        "            self.gdict[vrtx] = [] \n",
        "\n",
        "graph_elements = { \"r\" : [\"o\", \"m\"],\n",
        "                     \"o\" : [\"r\", \"m\", \"p\"],\n",
        "                     \"m\" : [\"o\", \"n\"],\n",
        "                     \"l\" : [\"r\", \"p\"],\n",
        "                     \"p\" : [\"o\", \"l\", \"n\"],\n",
        "                     \"n\" : [\"m\", \"p\"],\n",
        "                    }\n",
        "g = graph(graph_elements) \n",
        "g.addVertex(\"f\")\n",
        "g.addVertex(\"g\") \n",
        "print(g.getVertices())"
      ],
      "execution_count": 13,
      "outputs": [
        {
          "output_type": "stream",
          "name": "stdout",
          "text": [
            "['r', 'o', 'm', 'l', 'p', 'n', 'f', 'g']\n"
          ]
        }
      ]
    },
    {
      "cell_type": "code",
      "metadata": {
        "id": "f3a5v_MDsCvr"
      },
      "source": [
        "class graph: \n",
        "    def __init__ (self,gdict=None): \n",
        "        if gdict is None: \n",
        "           gdict = {} \n",
        "        self.gdict = gdict \n",
        "    def edges(self): \n",
        "        return self.findedges() \n",
        "\n",
        "    def AddEdge(self, edge): \n",
        "        edge = set(edge)\n",
        "        (vrtx1, vrtx2) = tuple(edge) \n",
        "        if vrtx1 in self.gdict: \n",
        "           self.gdict[vrtx1].append(vrtx2) \n",
        "        else: \n",
        "            self.gdict[vrtxl] = [vrtx2] \n",
        "\n",
        "    def findedges(self): \n",
        "        edgename = [] \n",
        "        for vrtx in self.gdict: \n",
        "            for nxtvrtx in self.gdict[vrtx]: \n",
        "                if {nxtvrtx, vrtx} not in edgename: \n",
        "                    edgename.append({vrtx, nxtvrtx}) \n",
        "        return edgename"
      ],
      "execution_count": 14,
      "outputs": []
    },
    {
      "cell_type": "code",
      "metadata": {
        "colab": {
          "base_uri": "https://localhost:8080/"
        },
        "id": "v9di5qVEsCu0",
        "outputId": "2de95da5-8e2e-47cf-c6b8-414cdab2e35d"
      },
      "source": [
        "graph_elements = { \"a\" : [\"b\", \"c\"],\n",
        "                \"b\" : [\"a\", \"d\"], \n",
        "                \"c\" : [\"a\", \"d\"],\n",
        "                \"d\" : [\"e\"],\n",
        "                \"e\" : [\"d\"]\n",
        "                } \n",
        "\n",
        "g = graph(graph_elements) \n",
        "g.AddEdge({'a','e'})\n",
        "g.AddEdge({'a','c'})\n",
        "print(g.edges())"
      ],
      "execution_count": 15,
      "outputs": [
        {
          "output_type": "stream",
          "name": "stdout",
          "text": [
            "[{'b', 'a'}, {'c', 'a'}, {'b', 'd'}, {'d', 'c'}, {'d', 'e'}, {'e', 'a'}]\n"
          ]
        }
      ]
    }
  ]
}