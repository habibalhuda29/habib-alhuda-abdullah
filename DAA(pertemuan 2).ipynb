{
  "nbformat": 4,
  "nbformat_minor": 0,
  "metadata": {
    "colab": {
      "name": "DAA.ipynb",
      "provenance": [],
      "collapsed_sections": [],
      "authorship_tag": "ABX9TyO8fun1ptCgnONsBqd668do",
      "include_colab_link": true
    },
    "kernelspec": {
      "name": "python3",
      "display_name": "Python 3"
    },
    "language_info": {
      "name": "python"
    }
  },
  "cells": [
    {
      "cell_type": "markdown",
      "metadata": {
        "id": "view-in-github",
        "colab_type": "text"
      },
      "source": [
        "<a href=\"https://colab.research.google.com/github/habibalhuda29/habib-alhuda-abdullah/blob/main/DAA(pertemuan%202).ipynb\" target=\"_parent\"><img src=\"https://colab.research.google.com/assets/colab-badge.svg\" alt=\"Open In Colab\"/></a>"
      ]
    },
    {
      "cell_type": "code",
      "metadata": {
        "colab": {
          "base_uri": "https://localhost:8080/"
        },
        "id": "VOFemB-FlSnS",
        "outputId": "645d84e6-ea05-45ec-da0a-d83984fd7ddd"
      },
      "source": [
        "import numpy as np\n",
        "print(np.__version__)"
      ],
      "execution_count": 19,
      "outputs": [
        {
          "output_type": "stream",
          "name": "stdout",
          "text": [
            "1.19.5\n"
          ]
        }
      ]
    },
    {
      "cell_type": "code",
      "metadata": {
        "colab": {
          "base_uri": "https://localhost:8080/"
        },
        "id": "6EU1WSsRpn-M",
        "outputId": "ea66a72b-1c98-4ad3-836f-4a0173169ca0"
      },
      "source": [
        "print(np.__version__)"
      ],
      "execution_count": 12,
      "outputs": [
        {
          "output_type": "stream",
          "name": "stdout",
          "text": [
            "1.19.5\n"
          ]
        }
      ]
    },
    {
      "cell_type": "code",
      "metadata": {
        "colab": {
          "base_uri": "https://localhost:8080/"
        },
        "id": "lSoc2Ao8pq7g",
        "outputId": "28264e91-f4b9-4f75-e6c2-93481798d9a4"
      },
      "source": [
        "print(\"Hello World!!\")"
      ],
      "execution_count": 13,
      "outputs": [
        {
          "output_type": "stream",
          "name": "stdout",
          "text": [
            "Hello World!!\n"
          ]
        }
      ]
    },
    {
      "cell_type": "code",
      "metadata": {
        "colab": {
          "base_uri": "https://localhost:8080/"
        },
        "id": "kr8hdYlkqDbf",
        "outputId": "d27965a9-eb2b-44e4-90b7-283d0c9531e9"
      },
      "source": [
        "print(\"Nama Saya(Habib Alhuda Abudllah)\")"
      ],
      "execution_count": 15,
      "outputs": [
        {
          "output_type": "stream",
          "name": "stdout",
          "text": [
            "Nama Saya(Habib Alhuda Abudllah)\n"
          ]
        }
      ]
    },
    {
      "cell_type": "code",
      "metadata": {
        "colab": {
          "base_uri": "https://localhost:8080/"
        },
        "id": "ccFHyoZXqJUY",
        "outputId": "2c9015ed-e05f-4f69-efcf-41f5d21dd803"
      },
      "source": [
        "print(\"Nim Saya(2020071012)\")"
      ],
      "execution_count": 16,
      "outputs": [
        {
          "output_type": "stream",
          "name": "stdout",
          "text": [
            "Nim Saya(2020071012)\n"
          ]
        }
      ]
    },
    {
      "cell_type": "code",
      "metadata": {
        "colab": {
          "base_uri": "https://localhost:8080/"
        },
        "id": "SqBY7GysqSDy",
        "outputId": "1beedb36-d502-4e33-cb16-876a76990054"
      },
      "source": [
        "if 5 > 2:\n",
        "  print(\"five is great than two\")"
      ],
      "execution_count": 17,
      "outputs": [
        {
          "output_type": "stream",
          "name": "stdout",
          "text": [
            "five is great than two\n"
          ]
        }
      ]
    },
    {
      "cell_type": "code",
      "metadata": {
        "colab": {
          "base_uri": "https://localhost:8080/"
        },
        "id": "Kirf1XtBqXSc",
        "outputId": "1b1921f3-ae93-4f68-b04b-22b2f3864dda"
      },
      "source": [
        "  x = 5 \n",
        "  y = \"jhon\"\n",
        "  print (x)\n",
        "  print (y)"
      ],
      "execution_count": 18,
      "outputs": [
        {
          "output_type": "stream",
          "name": "stdout",
          "text": [
            "5\n",
            "jhon\n"
          ]
        }
      ]
    },
    {
      "cell_type": "code",
      "metadata": {
        "colab": {
          "base_uri": "https://localhost:8080/"
        },
        "id": "i3DOcLhrqqtB",
        "outputId": "00e6dc2e-274f-454b-c9a9-6d8c30fb1848"
      },
      "source": [
        "x = 4\n",
        "x = \"sally\"\n",
        "print (x)"
      ],
      "execution_count": 54,
      "outputs": [
        {
          "output_type": "stream",
          "name": "stdout",
          "text": [
            "sally\n"
          ]
        }
      ]
    },
    {
      "cell_type": "code",
      "metadata": {
        "id": "Ch6azW_urfXi"
      },
      "source": [
        "def getlast (mylist) :\n",
        "  return mylist [-1]"
      ],
      "execution_count": 55,
      "outputs": []
    },
    {
      "cell_type": "code",
      "metadata": {
        "colab": {
          "base_uri": "https://localhost:8080/"
        },
        "id": "2fnXp6H4ruyp",
        "outputId": "c4e2d1b8-7612-4301-f15c-572d22821ff9"
      },
      "source": [
        "getlast ([1,2,3])"
      ],
      "execution_count": 56,
      "outputs": [
        {
          "output_type": "execute_result",
          "data": {
            "text/plain": [
              "3"
            ]
          },
          "metadata": {},
          "execution_count": 56
        }
      ]
    },
    {
      "cell_type": "code",
      "metadata": {
        "colab": {
          "base_uri": "https://localhost:8080/"
        },
        "id": "cAePbcZ0sWWy",
        "outputId": "abea7d43-e135-430c-9740-cfefcab6f081"
      },
      "source": [
        "getlast([1,2,3,4,5])"
      ],
      "execution_count": 57,
      "outputs": [
        {
          "output_type": "execute_result",
          "data": {
            "text/plain": [
              "5"
            ]
          },
          "metadata": {},
          "execution_count": 57
        }
      ]
    },
    {
      "cell_type": "code",
      "metadata": {
        "id": "uRRhIv0lCFAB"
      },
      "source": [
        "def getSum(myList):\n",
        "  sum = 0\n",
        "  for item in myList:\n",
        "    sum = sum + item\n",
        "  return sum\n",
        "#perhatikan posisi spasi pada return"
      ],
      "execution_count": 72,
      "outputs": []
    },
    {
      "cell_type": "code",
      "metadata": {
        "colab": {
          "base_uri": "https://localhost:8080/"
        },
        "id": "sv99EisnC5_7",
        "outputId": "33dce062-2e8c-4e91-db86-b42b09c37950"
      },
      "source": [
        "getSum ([1,2,3,4])"
      ],
      "execution_count": 73,
      "outputs": [
        {
          "output_type": "execute_result",
          "data": {
            "text/plain": [
              "10"
            ]
          },
          "metadata": {},
          "execution_count": 73
        }
      ]
    },
    {
      "cell_type": "code",
      "metadata": {
        "colab": {
          "base_uri": "https://localhost:8080/"
        },
        "id": "6enoO7h2Dizd",
        "outputId": "8114aaaa-d6de-402b-bbe9-5bfc6e9464f4"
      },
      "source": [
        "getSum ([1,2,3,4,5])"
      ],
      "execution_count": 64,
      "outputs": [
        {
          "output_type": "execute_result",
          "data": {
            "text/plain": [
              "15"
            ]
          },
          "metadata": {},
          "execution_count": 64
        }
      ]
    },
    {
      "cell_type": "code",
      "metadata": {
        "id": "J_-3MJHfE2GX"
      },
      "source": [
        "def getKali(myList):\n",
        "  Kali = 1\n",
        "  for item in myList:\n",
        "    Kali = Kali*item\n",
        "  return Kali\n",
        "#perhatikan posisi spasi pada return"
      ],
      "execution_count": 75,
      "outputs": []
    },
    {
      "cell_type": "code",
      "metadata": {
        "colab": {
          "base_uri": "https://localhost:8080/"
        },
        "id": "ItewKz1HFHyO",
        "outputId": "8fc5475f-f587-492f-c29e-d48ddda00de2"
      },
      "source": [
        " getKali ([1,2,3,4])"
      ],
      "execution_count": 76,
      "outputs": [
        {
          "output_type": "execute_result",
          "data": {
            "text/plain": [
              "24"
            ]
          },
          "metadata": {},
          "execution_count": 76
        }
      ]
    },
    {
      "cell_type": "code",
      "metadata": {
        "id": "Kz-PoSTYFMI6"
      },
      "source": [
        "def getBagi(myList):\n",
        "  Bagi = 1\n",
        "  for item in myList:\n",
        "    Bagi = Bagi/item\n",
        "  return Bagi\n",
        "#perhatikan posisi spasi pada return"
      ],
      "execution_count": 77,
      "outputs": []
    },
    {
      "cell_type": "code",
      "metadata": {
        "colab": {
          "base_uri": "https://localhost:8080/"
        },
        "id": "dU3QvOiiFVuw",
        "outputId": "43a571e2-a3f6-414f-c183-ccb944701a3e"
      },
      "source": [
        " getBagi ([1,2,3,4])"
      ],
      "execution_count": 78,
      "outputs": [
        {
          "output_type": "execute_result",
          "data": {
            "text/plain": [
              "0.041666666666666664"
            ]
          },
          "metadata": {},
          "execution_count": 78
        }
      ]
    },
    {
      "cell_type": "code",
      "metadata": {
        "id": "ud_OKH6oIZge"
      },
      "source": [
        "def getSum(myList):\n",
        "  sum = 0\n",
        "  for row in myList:\n",
        "    for item in row:\n",
        "      sum += item \n",
        "  return sum\n",
        "  #perhatikan posisi spasi pada return"
      ],
      "execution_count": 79,
      "outputs": []
    },
    {
      "cell_type": "code",
      "metadata": {
        "colab": {
          "base_uri": "https://localhost:8080/"
        },
        "id": "9wrEY7EZI9AN",
        "outputId": "165f7d4a-d961-4269-b061-7ce768b73599"
      },
      "source": [
        "getSum([[1,2,5],[3,4,7]])"
      ],
      "execution_count": 81,
      "outputs": [
        {
          "output_type": "execute_result",
          "data": {
            "text/plain": [
              "22"
            ]
          },
          "metadata": {},
          "execution_count": 81
        }
      ]
    },
    {
      "cell_type": "code",
      "metadata": {
        "colab": {
          "base_uri": "https://localhost:8080/"
        },
        "id": "kUhYXTjqJPeT",
        "outputId": "eef7099f-e125-47bb-916f-1aa348efde6d"
      },
      "source": [
        "getSum([[1,2],[3,4]])"
      ],
      "execution_count": 82,
      "outputs": [
        {
          "output_type": "execute_result",
          "data": {
            "text/plain": [
              "10"
            ]
          },
          "metadata": {},
          "execution_count": 82
        }
      ]
    },
    {
      "cell_type": "code",
      "metadata": {
        "colab": {
          "base_uri": "https://localhost:8080/"
        },
        "id": "DvBvGLwvJWiQ",
        "outputId": "987ff6f9-8e68-4875-cae6-35ff4709a382"
      },
      "source": [
        "getSum([[1,2,3],[4,5,6]])"
      ],
      "execution_count": 83,
      "outputs": [
        {
          "output_type": "execute_result",
          "data": {
            "text/plain": [
              "21"
            ]
          },
          "metadata": {},
          "execution_count": 83
        }
      ]
    },
    {
      "cell_type": "code",
      "metadata": {
        "id": "qHr5mVQxNPt7"
      },
      "source": [
        "def getBagi(myList):\n",
        "  bagi = 100\n",
        "  for row in myList:\n",
        "    for item in row:\n",
        "      bagi /= item \n",
        "  return bagi\n",
        "  #perhatikan posisi spasi pada return"
      ],
      "execution_count": 89,
      "outputs": []
    },
    {
      "cell_type": "code",
      "metadata": {
        "colab": {
          "base_uri": "https://localhost:8080/"
        },
        "id": "OBsoKwMbNa1I",
        "outputId": "c4ac5d64-4442-4b87-afd4-e56b58ccde77"
      },
      "source": [
        "getBagi ([[10,2],[5,1]])"
      ],
      "execution_count": 90,
      "outputs": [
        {
          "output_type": "execute_result",
          "data": {
            "text/plain": [
              "1.0"
            ]
          },
          "metadata": {},
          "execution_count": 90
        }
      ]
    },
    {
      "cell_type": "code",
      "metadata": {
        "id": "3ykixzimOa1t"
      },
      "source": [
        "def getKurang(myList):\n",
        "  kurang = 0\n",
        "  for row in myList:\n",
        "    for item in row:\n",
        "      kurang -= item \n",
        "  return kurang\n",
        "  #perhatikan posisi spasi pada return"
      ],
      "execution_count": 94,
      "outputs": []
    },
    {
      "cell_type": "code",
      "metadata": {
        "colab": {
          "base_uri": "https://localhost:8080/"
        },
        "id": "pc6z3hJROraR",
        "outputId": "ec17ebcc-9836-42d4-8dc9-d6113d85e4d1"
      },
      "source": [
        "getKurang ([[10,2],[5,1]])"
      ],
      "execution_count": 95,
      "outputs": [
        {
          "output_type": "execute_result",
          "data": {
            "text/plain": [
              "-18"
            ]
          },
          "metadata": {},
          "execution_count": 95
        }
      ]
    },
    {
      "cell_type": "code",
      "metadata": {
        "id": "7kqE5VbNQpq6"
      },
      "source": [
        "def searchBinary(myList,item):\n",
        "  first = 0\n",
        "  last = len(myList)-1\n",
        "  foundFlag = False\n",
        "  while( first<=last and not foundFlag):\n",
        "    mid = (first + last)//2\n",
        "    if myList[mid] == item :\n",
        "      foundFlag = True\n",
        "    else:\n",
        "      if item < myList[mid]:\n",
        "        last = mid - 1\n",
        "      else:\n",
        "        first = mid + 1\n",
        "  return foundFlag "
      ],
      "execution_count": 102,
      "outputs": []
    },
    {
      "cell_type": "code",
      "metadata": {
        "colab": {
          "base_uri": "https://localhost:8080/"
        },
        "id": "Qqdg4FuYUAqn",
        "outputId": "e26899b9-3356-4f85-c552-b7bcec836fbe"
      },
      "source": [
        "searchBinary([8,9,10,100,1000,2000,3000],10)"
      ],
      "execution_count": 103,
      "outputs": [
        {
          "output_type": "execute_result",
          "data": {
            "text/plain": [
              "True"
            ]
          },
          "metadata": {},
          "execution_count": 103
        }
      ]
    },
    {
      "cell_type": "code",
      "metadata": {
        "colab": {
          "base_uri": "https://localhost:8080/"
        },
        "id": "JAtktkq7UuKo",
        "outputId": "071c31af-248e-4a99-8e7f-f68cefc54cd5"
      },
      "source": [
        "searchBinary([8,9,10,100,1000,2000,3000],5)"
      ],
      "execution_count": 104,
      "outputs": [
        {
          "output_type": "execute_result",
          "data": {
            "text/plain": [
              "False"
            ]
          },
          "metadata": {},
          "execution_count": 104
        }
      ]
    }
  ]
}