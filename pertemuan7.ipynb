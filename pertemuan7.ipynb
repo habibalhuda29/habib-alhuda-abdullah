{
  "nbformat": 4,
  "nbformat_minor": 0,
  "metadata": {
    "colab": {
      "name": "pertemuan7.ipynb",
      "provenance": [],
      "authorship_tag": "ABX9TyN75jX1Rqw3x6zoXokfr8L3",
      "include_colab_link": true
    },
    "kernelspec": {
      "name": "python3",
      "display_name": "Python 3"
    },
    "language_info": {
      "name": "python"
    }
  },
  "cells": [
    {
      "cell_type": "markdown",
      "metadata": {
        "id": "view-in-github",
        "colab_type": "text"
      },
      "source": [
        "<a href=\"https://colab.research.google.com/github/habibalhuda29/habib-alhuda-abdullah/blob/main/pertemuan7.ipynb\" target=\"_parent\"><img src=\"https://colab.research.google.com/assets/colab-badge.svg\" alt=\"Open In Colab\"/></a>"
      ]
    },
    {
      "cell_type": "code",
      "metadata": {
        "id": "PWR_tdNakt3w"
      },
      "source": [
        "def Sequential_Search(dlist, item):\n",
        "\n",
        "  pos = 0\n",
        "  found = False\n",
        "\n",
        "  while pos < len(dlist) and not found:\n",
        "    if dlist[pos] == item:\n",
        "        found = True\n",
        "    else:\n",
        "        pos = pos + 1\n",
        "\n",
        "  return found, pos"
      ],
      "execution_count": 2,
      "outputs": []
    },
    {
      "cell_type": "code",
      "metadata": {
        "colab": {
          "base_uri": "https://localhost:8080/"
        },
        "id": "uzUbyFQil2fT",
        "outputId": "29eaff1e-de50-4187-82b8-b5340b36dec1"
      },
      "source": [
        "print(Sequential_Search([11,23,58,31,56,77,43,12,65,19],31))"
      ],
      "execution_count": 3,
      "outputs": [
        {
          "output_type": "stream",
          "name": "stdout",
          "text": [
            "(True, 3)\n"
          ]
        }
      ]
    },
    {
      "cell_type": "code",
      "metadata": {
        "id": "tZvkEosrum9N"
      },
      "source": [
        "def Sequential_Search(dlist, item):\n",
        "\n",
        "  pos = 0\n",
        "  found = False\n",
        "\n",
        "  while pos < len(dlist) and not found:\n",
        "    if dlist[pos] == item:\n",
        "        found = True\n",
        "    else:\n",
        "        pos = pos + 1\n",
        "\n",
        "  return found, pos"
      ],
      "execution_count": 23,
      "outputs": []
    },
    {
      "cell_type": "code",
      "metadata": {
        "colab": {
          "base_uri": "https://localhost:8080/"
        },
        "id": "wfHzoRiuvREl",
        "outputId": "a97d583d-ab43-4a3e-8325-a6dedfa3c1f3"
      },
      "source": [
        "print(Sequential_Search(['a','b','c','d','e','f','h'],'e'))"
      ],
      "execution_count": 27,
      "outputs": [
        {
          "output_type": "stream",
          "name": "stdout",
          "text": [
            "(True, 4)\n"
          ]
        }
      ]
    },
    {
      "cell_type": "code",
      "metadata": {
        "colab": {
          "base_uri": "https://localhost:8080/"
        },
        "id": "LfcD-jJPmz27",
        "outputId": "8b0df89d-c424-43e5-8f52-cf9fbd85f73f"
      },
      "source": [
        "bilangan = int(input('Masukan bilangan: '))\n",
        "pangkat = int(input('Masukan angkat: '))\n",
        "\n",
        "def hitung_pangkat(bilangan, pangkat):\n",
        "  if pangkat > 1:\n",
        "    return bilangan * hitung_pangkat(bilangan, pangkat - 1)\n",
        "\n",
        "  return bilangan\n",
        "\n",
        "hasil = hitung_pangkat(bilangan, pangkat)\n",
        "print(f'Hasil = {hasil}')"
      ],
      "execution_count": 4,
      "outputs": [
        {
          "output_type": "stream",
          "name": "stdout",
          "text": [
            "Masukan bilangan: 4\n",
            "Masukan angkat: 6\n",
            "Hasil = 4096\n"
          ]
        }
      ]
    },
    {
      "cell_type": "code",
      "metadata": {
        "colab": {
          "base_uri": "https://localhost:8080/"
        },
        "id": "IGvs-fZvnzdN",
        "outputId": "6f4666fe-a625-4d0f-9221-11e5c5161c6a"
      },
      "source": [
        "n = int(input('Masukan nilai n: '))\n",
        "\n",
        "def hitung_faktorial (n):\n",
        "  if n > 2:\n",
        "    return n * hitung_faktorial(n - 1)\n",
        "\n",
        "  return 2\n",
        "\n",
        "faktorial = hitung_faktorial(n)\n",
        "print(f'{n}! = {faktorial}')"
      ],
      "execution_count": 7,
      "outputs": [
        {
          "output_type": "stream",
          "name": "stdout",
          "text": [
            "Masukan nilai n: 5\n",
            "5! = 120\n"
          ]
        }
      ]
    },
    {
      "cell_type": "code",
      "metadata": {
        "colab": {
          "base_uri": "https://localhost:8080/"
        },
        "id": "vVpJMP9AojxD",
        "outputId": "47cbaa0d-ba9a-4acd-abf2-6b21fd30c85c"
      },
      "source": [
        "def string_match(string, sub_str):\n",
        "  # BRUTE FORCE SWTRING MATCHING\n",
        "  for i in range(len(string)-len(sub_str)+1):\n",
        "    index = i # index point to the 1 three characters to be compared\n",
        "    for j in range(len(sub_str)):\n",
        "      if string[index] == sub_str[j]:\n",
        "        index += 1\n",
        "      else:\n",
        "        break\n",
        "      if index - i == len(sub_str):\n",
        "        return i\n",
        "  return -1\n",
        "\n",
        "if __name__ == \"__main__\":\n",
        "  print(string_match(\"adbcbdc\", \"bdc\"))"
      ],
      "execution_count": 9,
      "outputs": [
        {
          "output_type": "stream",
          "name": "stdout",
          "text": [
            "4\n"
          ]
        }
      ]
    },
    {
      "cell_type": "code",
      "metadata": {
        "id": "yh0Kv8FiqtyN"
      },
      "source": [
        "latihan"
      ],
      "execution_count": null,
      "outputs": []
    },
    {
      "cell_type": "code",
      "metadata": {
        "id": "s1vku1Cnqzez"
      },
      "source": [
        "import random \n",
        "from itertools import permutations \n",
        "alltours = permutations \n",
        "\n",
        "def distance_tour(aTour):\n",
        "    return sum(distance_points(aTour[i - 1], aTour[1])\n",
        "        for i in range(len(aTour))) \n",
        "\n",
        "aCity = complex \n",
        "def distance_points(first, second):\n",
        "    return abs(first - second) \n",
        "\n",
        "def generate_cities (number_of_cities):\n",
        "    seed=111;width=500;height=300\n",
        "    random.seed((number_of_cities, seed))\n",
        "    return frozenset(aCity(random.randint(1, width), random.randint(1,height))\n",
        "        for c in range(number_of_cities))"
      ],
      "execution_count": 29,
      "outputs": []
    },
    {
      "cell_type": "code",
      "metadata": {
        "id": "l51q6jJuwWl3"
      },
      "source": [
        "%matplotlib inline\n",
        "import matplotlib.pyplot as plt\n",
        "\n",
        "def visualize_tour(tour, style='bo-'):\n",
        "  if len(tour) >1000: plt.figure(figsize=(15,10))\n",
        "  start = tour[0:1]\n",
        "  visualize_segment(tour + start, style)\n",
        "  visualize_segment(start, 'rD')\n",
        "\n",
        "def visualize_segment (segment,style='bo-'):\n",
        "      plt.plot([X(c) for c in segment], [Y(c) for c in segment], style, clip_on=False)\n",
        "      plt.axis('scaled')\n",
        "      plt.axis('off')\n",
        "\n",
        "def X (city): \"X axis\"; return city.real\n",
        "\n",
        "def Y (city): \"Y axis\"; return city.imag"
      ],
      "execution_count": 44,
      "outputs": []
    },
    {
      "cell_type": "code",
      "metadata": {
        "id": "2LThppARywwy"
      },
      "source": [
        "from time import process_time \n",
        "from collections import Counter \n",
        "def tsp(algorithm, cities): \n",
        "    t0 = process_time() \n",
        "    tour = algorithm(cities) \n",
        "    t1 = process_time() \n",
        "    assert Counter(tour) == Counter(cities) \n",
        "    visualize_tour(tour) \n",
        "    print(\"{}:{} cities => tour length {:.0f}(in {:.3f} sec)\".format(name(algorithm), len(tour), distance_tour(tour), t1-t0)) \n",
        "    \n",
        "\n",
        "def name(algorithm): return algorithm.__name__.replace('_tsp','')"
      ],
      "execution_count": 54,
      "outputs": []
    },
    {
      "cell_type": "code",
      "metadata": {
        "id": "-3qMbtel0-6q"
      },
      "source": [
        "def brute_force(cities):\n",
        "  \"GENERATE ALL POSSIBLE TOURS OF THE CITIES AND CHOOSE THE SHORTEST TOUR.\"\n",
        "  return shortest_tour(alltours(cities))\n",
        "def shortest_tour(tours): return min(tours, key=distance_tour)"
      ],
      "execution_count": 55,
      "outputs": []
    },
    {
      "cell_type": "code",
      "metadata": {
        "colab": {
          "base_uri": "https://localhost:8080/",
          "height": 266
        },
        "id": "B1jYxVqJ1sBm",
        "outputId": "c6ca7461-c50b-4eb2-cc05-c004fce06b20"
      },
      "source": [
        "tsp(brute_force, generate_cities(10))"
      ],
      "execution_count": 56,
      "outputs": [
        {
          "output_type": "stream",
          "name": "stdout",
          "text": [
            "brute_force:10 cities => tour length 1699(in 14.571 sec)\n"
          ]
        },
        {
          "output_type": "display_data",
          "data": {
            "image/png": "[encoded data removed]",
            "text/plain": [
              "<Figure size 432x288 with 1 Axes>"
            ]
          },
          "metadata": {
            "needs_background": "light"
          }
        }
      ]
    }
  ]
}